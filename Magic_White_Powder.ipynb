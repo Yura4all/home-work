{
 "cells": [
  {
   "cell_type": "code",
   "execution_count": 268,
   "metadata": {},
   "outputs": [],
   "source": [
    "%matplotlib inline\n",
    "#import yfinance as yf\n",
    "import pandas as pd\n",
    "import matplotlib.pyplot as plt\n",
    "import seaborn as sns; seaborn.set()\n",
    "import pandas_datareader\n",
    "from pandas_datareader import data as pdr\n",
    "from bs4 import BeautifulSoup\n",
    "import os"
   ]
  },
  {
   "cell_type": "markdown",
   "metadata": {},
   "source": [
    "# Задание 1.\n",
    "\n",
    "Вы - менеджер по продажам в нефтехимической компании. Вы ведете несколько ключевых клиентов, которые закупают продукты вашей компании. Ваша компания запускает новый продукт - \"Волшебный белый порошок\" (ВБП), который по своим свойствам похож на тот, что уже есть на рынке. Ваши клиенты предпочитают формульный подход к ценообразованию. Вам нужно предложить клиентам формулу расчета цены на ВБП. В зависимости от объемов, которые покупают клиенты, им может быть предложена скидка.\n",
    "\n",
    "### Дополнительные вводные:\n",
    "\n",
    "Так как продукт Б новый, возможно стоит предложить дисконт от цены Продукта А. Продукт производиться из нефти. Один из известных способов производства предполагает что из 16 баррелей нефти сделают одну тонну ВБП, а затраты на производство в районе 400 евро."
   ]
  },
  {
   "cell_type": "code",
   "execution_count": 247,
   "metadata": {},
   "outputs": [],
   "source": [
    "# Из данных есть:\n",
    "# Цены на продукт А, который уже есть на рынке Европы\n",
    "# ----- октябрь 2018 - \n",
    "# ----- ноябрь 2018 - \n",
    "# ----- февраль 2019 -\n",
    "\n",
    "# Котировки нефти, курс eur/usd\n",
    "dbc = pd.read_excel('cur_oil.xlsx')\n",
    "\n",
    "# Затраты на производство\n",
    "PRODUCTION_COST = 400 # (EUR)\n",
    "\n",
    "# Расходы на логистику\n",
    "EU_LOGISTIC_COST_EUR = 30 # в Европу в евро\n",
    "CN_LOGISTIC_COST_USD = 130 # в Китай в долларах\n",
    "\n",
    "# * Справочная информация по клиентам(объемы, локации, комментарии) \n",
    "customers = {\n",
    "    'Monty':{\n",
    "        'location':'EU',\n",
    "        'volumes':200,\n",
    "        'comment':'moving_average'\n",
    "    },\n",
    "    \n",
    "    'Triangle':{\n",
    "        'location':'CN',\n",
    "        'volumes': 30,\n",
    "        'comment': 'monthly'\n",
    "    },\n",
    "    'Stone':{\n",
    "        'location':'EU',\n",
    "        'volumes': 150,\n",
    "        'comment': 'moving_average'\n",
    "    },\n",
    "    'Poly':{\n",
    "        'location':'EU',\n",
    "        'volumes': 70,\n",
    "        'comment': 'monthly'\n",
    "    }\n",
    "}\n",
    "# Скидки\n",
    "discounts = {'up to 100': 0.01, # 1%\n",
    "             'up to 300': 0.05, # 5%\n",
    "             '300 plus': 0.1}   #10%\n"
   ]
  },
  {
   "cell_type": "code",
   "execution_count": 269,
   "metadata": {},
   "outputs": [],
   "source": []
  },
  {
   "cell_type": "markdown",
   "metadata": {},
   "source": [
    "### Что нужно сделать?\n",
    "\n",
    "1. Проанализировать имеющиеся данные.\n",
    "2. Определить базовую формулу цены на условиях FCA (цена на заводе). То есть как бы выглядела цена на исторических данных.\n",
    "3. Отобразить на графике.\n",
    "4. Сделать расчет возможной цены по формуле для каждого из клиентов на условиях DDP (цена с доставкой). Записать все в один эксель файл, на разных листах. Каждый лист - название клиента.\n",
    "5. Предложить формулу цены каждому из клиентов на условиях DDP (цена с доставкой).\n",
    "- Создать директорию «для клиентов» и в ней сложить  файлы с расчетами.\n",
    "- Каждый клиент - отдельный файл (любой из docx, xlsx, pptx, pdf)  с именем клиента… \n",
    "\n",
    "### В результате должно быть 3 файла:\n",
    "1. Ноутбук с расчетами и графиками. \n",
    "2. Скрипт, который делает расчет цены для каждого клиента в одном файле\n",
    "2. Скрипт, который делает расчет цены для каждого клиента в отельном файле"
   ]
  },
  {
   "cell_type": "code",
   "execution_count": 314,
   "metadata": {},
   "outputs": [
    {
     "name": "stdout",
     "output_type": "stream",
     "text": [
      "        Date  EURUSD=X    OIL\n",
      "0 2018-01-01    1.2005    NaN\n",
      "1 2018-01-02    1.2012  59.15\n",
      "2 2018-01-03    1.2063  59.15\n",
      "3 2018-01-04    1.2010  59.15\n",
      "4 2018-01-05    1.2069  60.44\n",
      "<class 'pandas.core.frame.DataFrame'>\n",
      "RangeIndex: 346 entries, 0 to 345\n",
      "Data columns (total 3 columns):\n",
      " #   Column    Non-Null Count  Dtype         \n",
      "---  ------    --------------  -----         \n",
      " 0   Date      346 non-null    datetime64[ns]\n",
      " 1   EURUSD=X  346 non-null    float64       \n",
      " 2   OIL       332 non-null    float64       \n",
      "dtypes: datetime64[ns](1), float64(2)\n",
      "memory usage: 8.2 KB\n",
      "1569.8256865454546\n",
      "1573.073667809524\n",
      "1.115\n"
     ]
    },
    {
     "data": {
      "text/html": [
       "<div>\n",
       "<style scoped>\n",
       "    .dataframe tbody tr th:only-of-type {\n",
       "        vertical-align: middle;\n",
       "    }\n",
       "\n",
       "    .dataframe tbody tr th {\n",
       "        vertical-align: top;\n",
       "    }\n",
       "\n",
       "    .dataframe thead th {\n",
       "        text-align: right;\n",
       "    }\n",
       "</style>\n",
       "<table border=\"1\" class=\"dataframe\">\n",
       "  <thead>\n",
       "    <tr style=\"text-align: right;\">\n",
       "      <th></th>\n",
       "      <th>Monty</th>\n",
       "      <th>Triangle</th>\n",
       "      <th>Stone</th>\n",
       "      <th>Poly</th>\n",
       "    </tr>\n",
       "  </thead>\n",
       "  <tbody>\n",
       "    <tr>\n",
       "      <th>location</th>\n",
       "      <td>EU</td>\n",
       "      <td>CN</td>\n",
       "      <td>EU</td>\n",
       "      <td>EU</td>\n",
       "    </tr>\n",
       "    <tr>\n",
       "      <th>volumes</th>\n",
       "      <td>200</td>\n",
       "      <td>30</td>\n",
       "      <td>150</td>\n",
       "      <td>70</td>\n",
       "    </tr>\n",
       "    <tr>\n",
       "      <th>comment</th>\n",
       "      <td>moving_average</td>\n",
       "      <td>monthly</td>\n",
       "      <td>moving_average</td>\n",
       "      <td>monthly</td>\n",
       "    </tr>\n",
       "    <tr>\n",
       "      <th>Price</th>\n",
       "      <td>1519.834402</td>\n",
       "      <td>1700.843431</td>\n",
       "      <td>1519.834402</td>\n",
       "      <td>1587.042931</td>\n",
       "    </tr>\n",
       "  </tbody>\n",
       "</table>\n",
       "</div>"
      ],
      "text/plain": [
       "                   Monty     Triangle           Stone         Poly\n",
       "location              EU           CN              EU           EU\n",
       "volumes              200           30             150           70\n",
       "comment   moving_average      monthly  moving_average      monthly\n",
       "Price        1519.834402  1700.843431     1519.834402  1587.042931"
      ]
     },
     "execution_count": 314,
     "metadata": {},
     "output_type": "execute_result"
    },
    {
     "data": {
      "image/png": "[encoded data removed]",
      "text/plain": [
       "<Figure size 1080x360 with 1 Axes>"
      ]
     },
     "metadata": {},
     "output_type": "display_data"
    }
   ],
   "source": [
    "#1\n",
    "print(dbc.head())\n",
    "dbc.info()\n",
    "dbc.head()\n",
    "\n",
    "dbc_adj=dbc.fillna(method=\"pad\").fillna(method=\"bfill\")\n",
    "\n",
    "#2\n",
    "dbc_adj['FCA']=dbc2['OIL']*dbc2['EURUSD=X']*16+400\n",
    "#3 \n",
    "sns.relplot(\n",
    "   \n",
    "    x='Date', \n",
    "    y='FCA', \n",
    "    data=dbc2, \n",
    "    kind='line',\n",
    "    aspect=3\n",
    ")\n",
    "plt.title('FCA', size=20, color='g');\n",
    "\n",
    "#4\n",
    "dbc_adj['Month_Year']=dbc['Date'].dt.to_period('M')\n",
    "\n",
    "grouped=dbc_adj.groupby('Month_Year').mean()\n",
    "\n",
    "dbc_adj['MA'] = dbc_adj['FCA'].rolling(window=22).mean()\n",
    "\n",
    "Last_MA_price=dbc_adj['MA'].iloc[-1]\n",
    "Last_EURUSD=dbc_adj['EURUSD=X'].iloc[-1]\n",
    "Last_monthly_price=grouped['FCA'].iloc[-1]\n",
    "\n",
    "for customer in customers.keys():\n",
    "    if customers.get(customer).get('location')=='EU':\n",
    "        customers.get(customer)['Price']=EU_LOGISTIC_COST_EUR\n",
    "    else:\n",
    "        customers.get(customer)['Price']=CN_LOGISTIC_COST_USD*Last_EURUSD \n",
    "    \n",
    "    if customers.get(customer).get('comment')=='moving_average':\n",
    "        customers.get(customer)['Price']=customers.get(customer).get('Price')+Last_MA_price\n",
    "    else:\n",
    "         customers.get(customer)['Price']=customers.get(customer).get('Price')+Last_monthly_price\n",
    "            \n",
    "    if customers.get(customer).get('volumes')<=100:\n",
    "        customers.get(customer)['Price']=customers.get(customer).get('Price')*(1-discounts.get('up to 100'))\n",
    "    elif customers.get(customer).get('volumes')>100 and customers.get(customer).get('volumes')<=300:\n",
    "        customers.get(customer)['Price']=customers.get(customer).get('Price')*(1-discounts.get('up to 300'))    \n",
    "    else:\n",
    "         customers.get(customer)['Price']=customers.get(customer).get('Price')*(1-discounts.get('300 plus'))\n",
    "            \n",
    "\n",
    "        \n",
    "customers_with_prices = pd.DataFrame.from_dict(customers)\n",
    "\n",
    "print(Last_MA_price)\n",
    "print(Last_monthly_price)\n",
    "print(Last_EURUSD)\n",
    "\n",
    "\n",
    "\n",
    "with pd.ExcelWriter('customers_with_prices_lesson3.xlsx', engine='xlsxwriter') as writer:\n",
    "    for i in list(customers.keys()):\n",
    "        pd.DataFrame.from_dict(customers_with_prices[i]).reset_index().to_excel(writer, sheet_name=i, index=False)\n",
    "        \n",
    "\n",
    "customers_with_prices.head()\n"
   ]
  },
  {
   "cell_type": "markdown",
   "metadata": {},
   "source": [
    "# Задание 2. Продолжение"
   ]
  },
  {
   "cell_type": "markdown",
   "metadata": {},
   "source": [
    "Клиенты согласились на ваше предложение. \n",
    "Вам нужно сделать написать скрипт, с помощью которого можно автоматом рассчитывать цены для всех клиентов одновременно. \n",
    "Важный момент: данные для расчета скрипт должен подтягивать сам.\n",
    "\n",
    "В результате должно быть 3 файла\n",
    "1. Ноутбук с расчетами и графиками (чтобы данные подтягивались туда)\n",
    "2. Скрипт, который делает расчет цены для клиента (чтобы данные подтягивались туда сами)"
   ]
  },
  {
   "cell_type": "code",
   "execution_count": null,
   "metadata": {},
   "outputs": [],
   "source": [
    "# "
   ]
  },
  {
   "cell_type": "markdown",
   "metadata": {},
   "source": [
    "# Задание 3. Back to Russia\n",
    "\n",
    "К вам пришел новый клиент из России. Который использует продукт А и готов регулярно закупать ВБП для того, чтобы не быть привязанным к одному поставщику. Клиент готов забирать ВБП с завода самостоятельно.\n",
    "1. На основе тех данных, которые уже есть предложите цену новому клиенту. \n",
    "2. Подготовьте скрипт, который будет использовать курс публикуемый на <a href='http://www.cbr.ru/currency_base/dynamics/'> сайте ЦБ РФ</a>.\n"
   ]
  },
  {
   "cell_type": "code",
   "execution_count": null,
   "metadata": {},
   "outputs": [],
   "source": [
    "# "
   ]
  },
  {
   "cell_type": "markdown",
   "metadata": {},
   "source": [
    "# Задание 4. Check it"
   ]
  },
  {
   "cell_type": "markdown",
   "metadata": {},
   "source": [
    "* Подумайте, как можно проверить корректность работы алгоритма? \n",
    "* Какие возможны ошибки?\n",
    "* Придумайте тесты для проверки возможных ошибок алгоритма\n",
    "* Интергрируйте их в свои скрипты в виде исключений\n"
   ]
  },
  {
   "cell_type": "code",
   "execution_count": null,
   "metadata": {},
   "outputs": [],
   "source": [
    "# "
   ]
  },
  {
   "cell_type": "markdown",
   "metadata": {},
   "source": [
    "# Задание 5. Поделись с ближним"
   ]
  },
  {
   "cell_type": "markdown",
   "metadata": {},
   "source": [
    "Вы решили пойти в отпуск на время вашего отсутствия вас будет заменять коллега. Он будет заниматься рассчетом цен для клиентов. Чтобы ему было проще вам нужно завернуть ваши скрипты в модуль, который будет запускать у себя коллега."
   ]
  },
  {
   "cell_type": "markdown",
   "metadata": {},
   "source": [
    "* Создайте модуль, который можно запускать в ноутбуке подкладывая в ту же директорию\n",
    "* Хорошенько задокументируйте ВСЁ, но помните о PEP8"
   ]
  },
  {
   "cell_type": "code",
   "execution_count": null,
   "metadata": {},
   "outputs": [],
   "source": [
    "# import yourpackage"
   ]
  },
  {
   "cell_type": "markdown",
   "metadata": {},
   "source": [
    "# Задание 6. Поделись пакетом"
   ]
  },
  {
   "cell_type": "markdown",
   "metadata": {},
   "source": [
    "Ваши коллеги узнали, что вы быстро рассчитываете цены для формульных контрактов, и решили использовать такую же практику для своих продуктов и клиентов. Вам нужно создать пакет, чтобы его было проще устанавливать и использовать."
   ]
  },
  {
   "cell_type": "markdown",
   "metadata": {},
   "source": [
    "* Создайте отдельный пакет, который можно устанавливать с помощью pip \n",
    "* В пакете должны быть реализованы функции для рассчета цен по формульным контрактам\n",
    "* Выложите пакет в репозиторий"
   ]
  },
  {
   "cell_type": "code",
   "execution_count": null,
   "metadata": {},
   "outputs": [],
   "source": [
    "# !pip install yourpackage\n",
    "# import yourpackage"
   ]
  }
 ],
 "metadata": {
  "kernelspec": {
   "display_name": "Python 3",
   "language": "python",
   "name": "python3"
  },
  "language_info": {
   "codemirror_mode": {
    "name": "ipython",
    "version": 3
   },
   "file_extension": ".py",
   "mimetype": "text/x-python",
   "name": "python",
   "nbconvert_exporter": "python",
   "pygments_lexer": "ipython3",
   "version": "3.8.8"
  }
 },
 "nbformat": 4,
 "nbformat_minor": 2
}
