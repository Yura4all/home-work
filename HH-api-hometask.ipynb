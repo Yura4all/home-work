{
 "cells": [
  {
   "cell_type": "code",
   "execution_count": 1,
   "metadata": {},
   "outputs": [],
   "source": [
    "import requests\n",
    "from tqdm.auto import tqdm\n",
    "from collections import defaultdict\n",
    "import datetime"
   ]
  },
  {
   "cell_type": "code",
   "execution_count": 2,
   "metadata": {},
   "outputs": [],
   "source": [
    "sber = '3529'\n",
    "page = 1\n",
    "num_per_page = 100\n",
    "moscow = 1\n",
    "url = f'https://api.hh.ru/vacancies?employer_id={sber}&page={page}&per_page={num_per_page}'#&area={moscow}'\n",
    "#результат лишь по 1 странице"
   ]
  },
  {
   "cell_type": "code",
   "execution_count": 3,
   "metadata": {},
   "outputs": [
    {
     "data": {
      "text/plain": [
       "20"
      ]
     },
     "execution_count": 3,
     "metadata": {},
     "output_type": "execute_result"
    }
   ],
   "source": [
    "res = requests.get(url)\n",
    "vacancies = res.json()\n",
    "num_pages = vacancies.get('pages')\n",
    "num_pages"
   ]
  },
  {
   "cell_type": "code",
   "execution_count": 5,
   "metadata": {},
   "outputs": [
    {
     "data": {
      "text/plain": [
       "dict_keys(['items', 'found', 'pages', 'per_page', 'page', 'clusters', 'arguments', 'alternate_url'])"
      ]
     },
     "execution_count": 5,
     "metadata": {},
     "output_type": "execute_result"
    }
   ],
   "source": [
    "vacancies.keys()\n"
   ]
  },
  {
   "cell_type": "code",
   "execution_count": 6,
   "metadata": {},
   "outputs": [
    {
     "data": {
      "text/plain": [
       "6375"
      ]
     },
     "execution_count": 6,
     "metadata": {},
     "output_type": "execute_result"
    }
   ],
   "source": [
    "vacancies.get('found')"
   ]
  },
  {
   "cell_type": "code",
   "execution_count": 7,
   "metadata": {
    "scrolled": true
   },
   "outputs": [
    {
     "data": {
      "text/plain": [
       "'49447342'"
      ]
     },
     "execution_count": 7,
     "metadata": {},
     "output_type": "execute_result"
    }
   ],
   "source": [
    "vacancies = res.json()\n",
    "num_pages = vacancies.get('pages')\n",
    "vacancy_ids = [d.get('id') for d in vacancies.get('items')]\n",
    "vacancy_ids[0]"
   ]
  },
  {
   "cell_type": "code",
   "execution_count": 8,
   "metadata": {},
   "outputs": [
    {
     "data": {
      "text/plain": [
       "100"
      ]
     },
     "execution_count": 8,
     "metadata": {},
     "output_type": "execute_result"
    }
   ],
   "source": [
    "len(vacancy_ids)"
   ]
  },
  {
   "cell_type": "code",
   "execution_count": 14,
   "metadata": {},
   "outputs": [
    {
     "data": {
      "application/vnd.jupyter.widget-view+json": {
       "model_id": "a98a7c9df3b94e069c133c0d307ca60a",
       "version_major": 2,
       "version_minor": 0
      },
      "text/plain": [
       "  0%|          | 0/20 [00:00<?, ?it/s]"
      ]
     },
     "metadata": {},
     "output_type": "display_data"
    },
    {
     "data": {
      "text/plain": [
       "2000"
      ]
     },
     "execution_count": 14,
     "metadata": {},
     "output_type": "execute_result"
    }
   ],
   "source": [
    "all_vacancy_ids= []\n",
    "for i in tqdm(range(vacancies.get('pages'))):\n",
    "    url = f'https://api.hh.ru/vacancies?employer_id={sber}&page={i}&per_page={num_per_page}&area={moscow}'\n",
    "    res = requests.get(url)\n",
    "    vacancies = res.json()\n",
    "    vacancy_ids = [el.get('id') for el in vacancies.get('items')]\n",
    "    all_vacancy_ids.extend(vacancy_ids)\n",
    "len(all_vacancy_ids)"
   ]
  },
  {
   "cell_type": "code",
   "execution_count": 11,
   "metadata": {},
   "outputs": [],
   "source": [
    "vac_id = 43326020\n",
    "url = f'https://api.hh.ru/vacancies/{vac_id}'\n",
    "res = requests.get(url)\n",
    "vacancy = res.json()\n"
   ]
  },
  {
   "cell_type": "code",
   "execution_count": 12,
   "metadata": {},
   "outputs": [],
   "source": [
    "# Задание вытащить все вакансии СБЕРа с ХХ (у апи есть ограничение в 2000, подумайте как его обойти)\n",
    "# Вытащите все полные описания этих вакансий по запросу с https://api.hh.ru/vacancies/43326020 где 43326020 id вакансии\n",
    "# Создайте аналогичный vacancy DataFrame только добавьте поле skills\n",
    "# Переведите даты публикаций в datetime\n",
    "# Постройте график опубликованных вакансий по датам\n",
    "# Переведите даты в дни недели, и определите день недели, в который больше всего публикуют вакансий\n",
    "# Найдите те вакансии с использованием python, которые вам интересны\n",
    "# Определите по полю skills какие навыки больше всего востребованы для этих вакансий, и\n",
    "# Постройте график наиболее востребованных вакансий"
   ]
  },
  {
   "cell_type": "code",
   "execution_count": 13,
   "metadata": {},
   "outputs": [
    {
     "data": {
      "text/plain": [
       "dict_keys(['id', 'premium', 'billing_type', 'relations', 'name', 'insider_interview', 'response_letter_required', 'area', 'salary', 'type', 'address', 'allow_messages', 'site', 'experience', 'schedule', 'employment', 'department', 'contacts', 'description', 'branded_description', 'vacancy_constructor_template', 'key_skills', 'accept_handicapped', 'accept_kids', 'archived', 'response_url', 'specializations', 'professional_roles', 'code', 'hidden', 'quick_responses_allowed', 'driver_license_types', 'accept_incomplete_resumes', 'employer', 'published_at', 'created_at', 'negotiations_url', 'suitable_resumes_url', 'apply_alternate_url', 'has_test', 'test', 'alternate_url', 'working_days', 'working_time_intervals', 'working_time_modes', 'accept_temporary'])"
      ]
     },
     "execution_count": 13,
     "metadata": {},
     "output_type": "execute_result"
    }
   ],
   "source": [
    "vacancy.keys()"
   ]
  },
  {
   "cell_type": "code",
   "execution_count": 15,
   "metadata": {},
   "outputs": [
    {
     "data": {
      "application/vnd.jupyter.widget-view+json": {
       "model_id": "2c602ae5af044270b18c0f55e79393ad",
       "version_major": 2,
       "version_minor": 0
      },
      "text/plain": [
       "  0%|          | 0/2000 [00:00<?, ?it/s]"
      ]
     },
     "metadata": {},
     "output_type": "display_data"
    }
   ],
   "source": [
    "# Вытащите все полные описания этих вакансий по запросу с https://api.hh.ru/vacancies/43326020 где 43326020 id вакансии\n",
    "\n",
    "tab_dict=defaultdict(list)\n",
    "for vid in tqdm(all_vacancy_ids):\n",
    "    url = f'https://api.hh.ru/vacancies/{vid}'\n",
    "    res = requests.get(url)\n",
    "    vacancy = res.json()\n",
    "    tab_dict['id'].append(vacancy.get('id'))\n",
    "    tab_dict['name'].append(vacancy.get('name'))\n",
    "    tab_dict['published_at'].append(vacancy.get('published_at'))\n",
    "    tab_dict['description'].append(vacancy.get('description'))\n",
    "    skills=','.join([x.get('name') for x in vacancy.get('key_skills')])\n",
    "    tab_dict['key_skills'].append(skills)"
   ]
  },
  {
   "cell_type": "code",
   "execution_count": 18,
   "metadata": {},
   "outputs": [],
   "source": [
    "import pandas as pd"
   ]
  },
  {
   "cell_type": "code",
   "execution_count": 84,
   "metadata": {},
   "outputs": [
    {
     "name": "stderr",
     "output_type": "stream",
     "text": [
      "<ipython-input-84-de6f2ceb0b95>:3: FutureWarning: The default value of regex will change from True to False in a future version.\n",
      "  vacancies_dtfr.description=vacancies_dtfr.description.str.replace('<p>|</p>|<strong>|</strong>|<ul>|</ul>|<li>|</li>','')\n"
     ]
    },
    {
     "data": {
      "text/html": [
       "<div>\n",
       "<style scoped>\n",
       "    .dataframe tbody tr th:only-of-type {\n",
       "        vertical-align: middle;\n",
       "    }\n",
       "\n",
       "    .dataframe tbody tr th {\n",
       "        vertical-align: top;\n",
       "    }\n",
       "\n",
       "    .dataframe thead th {\n",
       "        text-align: right;\n",
       "    }\n",
       "</style>\n",
       "<table border=\"1\" class=\"dataframe\">\n",
       "  <thead>\n",
       "    <tr style=\"text-align: right;\">\n",
       "      <th></th>\n",
       "      <th>id</th>\n",
       "      <th>name</th>\n",
       "      <th>published_at</th>\n",
       "      <th>description</th>\n",
       "      <th>key_skills</th>\n",
       "    </tr>\n",
       "  </thead>\n",
       "  <tbody>\n",
       "    <tr>\n",
       "      <th>0</th>\n",
       "      <td>43635983</td>\n",
       "      <td>Клиентский менеджер со знанием таджикского, уз...</td>\n",
       "      <td>2021-11-08T18:21:40+0300</td>\n",
       "      <td>Клиентский менеджер ― специалист, который прод...</td>\n",
       "      <td></td>\n",
       "    </tr>\n",
       "    <tr>\n",
       "      <th>1</th>\n",
       "      <td>46943947</td>\n",
       "      <td>Клиентский менеджер прямых продаж</td>\n",
       "      <td>2021-10-11T11:10:21+0300</td>\n",
       "      <td>У каждого нашего зарплатного клиента – компани...</td>\n",
       "      <td></td>\n",
       "    </tr>\n",
       "    <tr>\n",
       "      <th>2</th>\n",
       "      <td>44951547</td>\n",
       "      <td>Клиентский менеджер</td>\n",
       "      <td>2021-10-06T20:09:35+0300</td>\n",
       "      <td>Клиентский менеджер ― специалист, который прод...</td>\n",
       "      <td>Активные продажи,Прямые продажи</td>\n",
       "    </tr>\n",
       "    <tr>\n",
       "      <th>3</th>\n",
       "      <td>49259518</td>\n",
       "      <td>Стажер по направлению Data Science от SBERSEASONS</td>\n",
       "      <td>2021-10-29T19:39:59+0300</td>\n",
       "      <td>Любишь работать с данными и хочешь применить с...</td>\n",
       "      <td>Python,SQL,MS PowerPoint,Data Analysis</td>\n",
       "    </tr>\n",
       "    <tr>\n",
       "      <th>4</th>\n",
       "      <td>49287280</td>\n",
       "      <td>Помощник руководителя</td>\n",
       "      <td>2021-11-01T13:55:06+0300</td>\n",
       "      <td>Сбер — крупнейший банк в России, Центральной и...</td>\n",
       "      <td>Планирование рабочего дня руководителя,Организ...</td>\n",
       "    </tr>\n",
       "  </tbody>\n",
       "</table>\n",
       "</div>"
      ],
      "text/plain": [
       "         id                                               name  \\\n",
       "0  43635983  Клиентский менеджер со знанием таджикского, уз...   \n",
       "1  46943947                  Клиентский менеджер прямых продаж   \n",
       "2  44951547                                Клиентский менеджер   \n",
       "3  49259518  Стажер по направлению Data Science от SBERSEASONS   \n",
       "4  49287280                              Помощник руководителя   \n",
       "\n",
       "               published_at  \\\n",
       "0  2021-11-08T18:21:40+0300   \n",
       "1  2021-10-11T11:10:21+0300   \n",
       "2  2021-10-06T20:09:35+0300   \n",
       "3  2021-10-29T19:39:59+0300   \n",
       "4  2021-11-01T13:55:06+0300   \n",
       "\n",
       "                                         description  \\\n",
       "0  Клиентский менеджер ― специалист, который прод...   \n",
       "1  У каждого нашего зарплатного клиента – компани...   \n",
       "2  Клиентский менеджер ― специалист, который прод...   \n",
       "3  Любишь работать с данными и хочешь применить с...   \n",
       "4  Сбер — крупнейший банк в России, Центральной и...   \n",
       "\n",
       "                                          key_skills  \n",
       "0                                                     \n",
       "1                                                     \n",
       "2                    Активные продажи,Прямые продажи  \n",
       "3             Python,SQL,MS PowerPoint,Data Analysis  \n",
       "4  Планирование рабочего дня руководителя,Организ...  "
      ]
     },
     "execution_count": 84,
     "metadata": {},
     "output_type": "execute_result"
    }
   ],
   "source": [
    "# Создайте аналогичный vacancy DataFrame только добавьте поле skills\n",
    "vacancies_dtfr = pd.DataFrame.from_dict(tab_dict)\n",
    "vacancies_dtfr.description=vacancies_dtfr.description.str.replace('<p>|</p>|<strong>|</strong>|<ul>|</ul>|<li>|</li>','')\n",
    "\n",
    "vacancies_dtfr.head()"
   ]
  },
  {
   "cell_type": "code",
   "execution_count": 94,
   "metadata": {},
   "outputs": [
    {
     "name": "stdout",
     "output_type": "stream",
     "text": [
      "<class 'pandas.core.frame.DataFrame'>\n",
      "RangeIndex: 2000 entries, 0 to 1999\n",
      "Data columns (total 5 columns):\n",
      " #   Column        Non-Null Count  Dtype \n",
      "---  ------        --------------  ----- \n",
      " 0   id            2000 non-null   object\n",
      " 1   name          2000 non-null   object\n",
      " 2   published_at  2000 non-null   object\n",
      " 3   description   2000 non-null   object\n",
      " 4   key_skills    2000 non-null   object\n",
      "dtypes: object(5)\n",
      "memory usage: 78.2+ KB\n"
     ]
    }
   ],
   "source": [
    "# Переведите даты публикаций в datetime\n",
    "vacancies_dtfr.published_at=pd.to_datetime(rn.published_at).dt.date\n",
    "vacancies_dtfr.info()"
   ]
  },
  {
   "cell_type": "code",
   "execution_count": 111,
   "metadata": {},
   "outputs": [
    {
     "data": {
      "image/png": "[encoded data removed]",
      "text/plain": [
       "<Figure size 1080x360 with 1 Axes>"
      ]
     },
     "metadata": {},
     "output_type": "display_data"
    }
   ],
   "source": [
    "# Постройте график опубликованных вакансий по датам  \n",
    "import seaborn as sns\n",
    "import matplotlib.pyplot as plt\n",
    "vacs=vacancies_dtfr.groupby('published_at')['id'].count().reset_index()\n",
    "\n",
    "\n",
    "sns.set(style='darkgrid')  \n",
    "\n",
    "sns.relplot(\n",
    "   \n",
    "    x='published_at', \n",
    "    y='id', \n",
    "    data=vacs, \n",
    "    kind='line',\n",
    "    aspect=3\n",
    ")\n",
    "plt.title('Количество вакансий по датам', size=20, color='g');"
   ]
  },
  {
   "cell_type": "code",
   "execution_count": 99,
   "metadata": {},
   "outputs": [
    {
     "data": {
      "text/plain": [
       "weekday_num\n",
       "Monday       552\n",
       "Wednesday    427\n",
       "Tuesday      424\n",
       "Thursday     300\n",
       "Friday       240\n",
       "Sunday        42\n",
       "Saturday      15\n",
       "Name: id, dtype: int64"
      ]
     },
     "execution_count": 99,
     "metadata": {},
     "output_type": "execute_result"
    }
   ],
   "source": [
    "# Переведите даты в дни недели, и определите день недели, в который больше всего публикуют вакансий\n",
    "vacancies_dtfr['weekday_num']=vacancies_dtfr.published_at.apply(lambda x:x.strftime('%A'))\n",
    "vacancies_dtfr.head()\n",
    "vacancies_dtfr.groupby('weekday_num')['id'].count().sort_values(ascending=False)"
   ]
  },
  {
   "cell_type": "code",
   "execution_count": 98,
   "metadata": {},
   "outputs": [
    {
     "data": {
      "text/html": [
       "<div>\n",
       "<style scoped>\n",
       "    .dataframe tbody tr th:only-of-type {\n",
       "        vertical-align: middle;\n",
       "    }\n",
       "\n",
       "    .dataframe tbody tr th {\n",
       "        vertical-align: top;\n",
       "    }\n",
       "\n",
       "    .dataframe thead th {\n",
       "        text-align: right;\n",
       "    }\n",
       "</style>\n",
       "<table border=\"1\" class=\"dataframe\">\n",
       "  <thead>\n",
       "    <tr style=\"text-align: right;\">\n",
       "      <th></th>\n",
       "      <th>index</th>\n",
       "      <th>id</th>\n",
       "      <th>name</th>\n",
       "      <th>published_at</th>\n",
       "      <th>description</th>\n",
       "      <th>key_skills</th>\n",
       "      <th>weekday_num</th>\n",
       "    </tr>\n",
       "  </thead>\n",
       "  <tbody>\n",
       "    <tr>\n",
       "      <th>0</th>\n",
       "      <td>25</td>\n",
       "      <td>48918980</td>\n",
       "      <td>Портфельный аналитик</td>\n",
       "      <td>2021-10-18</td>\n",
       "      <td>Наша команда занимается управлением портфелем ...</td>\n",
       "      <td>SQL,Python,Математическая статистика,MS PowerP...</td>\n",
       "      <td>Monday</td>\n",
       "    </tr>\n",
       "    <tr>\n",
       "      <th>1</th>\n",
       "      <td>730</td>\n",
       "      <td>49344636</td>\n",
       "      <td>Аналитик по количественным финансам (AI/ML)</td>\n",
       "      <td>2021-11-03</td>\n",
       "      <td>Обязанности:  Генерация идей, сбор и организац...</td>\n",
       "      <td>Python,Математическая статистика,Английский яз...</td>\n",
       "      <td>Wednesday</td>\n",
       "    </tr>\n",
       "    <tr>\n",
       "      <th>2</th>\n",
       "      <td>1527</td>\n",
       "      <td>47768798</td>\n",
       "      <td>Аналитик в центр портфельного управления розни...</td>\n",
       "      <td>2021-10-22</td>\n",
       "      <td>Сбер приглашает аналитиков в центр портфельног...</td>\n",
       "      <td>SQL,Python,Математическая статистика,Аналитиче...</td>\n",
       "      <td>Friday</td>\n",
       "    </tr>\n",
       "  </tbody>\n",
       "</table>\n",
       "</div>"
      ],
      "text/plain": [
       "   index        id                                               name  \\\n",
       "0     25  48918980                               Портфельный аналитик   \n",
       "1    730  49344636        Аналитик по количественным финансам (AI/ML)   \n",
       "2   1527  47768798  Аналитик в центр портфельного управления розни...   \n",
       "\n",
       "  published_at                                        description  \\\n",
       "0   2021-10-18  Наша команда занимается управлением портфелем ...   \n",
       "1   2021-11-03  Обязанности:  Генерация идей, сбор и организац...   \n",
       "2   2021-10-22  Сбер приглашает аналитиков в центр портфельног...   \n",
       "\n",
       "                                          key_skills weekday_num  \n",
       "0  SQL,Python,Математическая статистика,MS PowerP...      Monday  \n",
       "1  Python,Математическая статистика,Английский яз...   Wednesday  \n",
       "2  SQL,Python,Математическая статистика,Аналитиче...      Friday  "
      ]
     },
     "execution_count": 98,
     "metadata": {},
     "output_type": "execute_result"
    }
   ],
   "source": [
    "# Найдите те вакансии с использованием python, которые вам интересны\n",
    "t1 = vacancies_dtfr.name.str.lower().str.contains('финан|портф')\n",
    "t2 = vacancies_dtfr.name.str.lower().str.contains('аналитик|analyst')\n",
    "t3=vacancies_dtfr.key_skills.str.lower().str.contains('python')\n",
    "\n",
    "top_vacancies=vacancies_dtfr[t1 &t2 &t3]\n",
    "top_vacancies.reset_index()"
   ]
  },
  {
   "cell_type": "code",
   "execution_count": 167,
   "metadata": {},
   "outputs": [
    {
     "data": {
      "text/plain": [
       "skills\n",
       "SQL           136\n",
       "Linux          71\n",
       "Git            62\n",
       "PostgreSQL     46\n",
       "Hadoop         39\n",
       "Name: index, dtype: int64"
      ]
     },
     "execution_count": 167,
     "metadata": {},
     "output_type": "execute_result"
    }
   ],
   "source": [
    "#Определите по полю skills какие навыки больше всего востребованы для этих вакансий, и\n",
    "\n",
    "t4=vacancies_dtfr.key_skills.str.lower().str.contains('python')\n",
    "\n",
    "python_vacancies=vacancies_dtfr[t4]\n",
    "python_vacancies.reset_index()\n",
    "\n",
    "skills=python_vacancies.key_skills.apply(lambda x: x.split(','))\n",
    "\n",
    "\n",
    "skills_all=pd.DataFrame(sum(skills, []),columns =['skills']).reset_index()\n",
    "skills_all\n",
    "\n",
    "skills_all.groupby('skills')['index'].count().sort_values(ascending=False).drop('Python').nlargest(5)\n",
    "\n",
    "\n",
    "\n",
    "\n"
   ]
  },
  {
   "cell_type": "code",
   "execution_count": 174,
   "metadata": {},
   "outputs": [
    {
     "data": {
      "image/png": "[encoded data removed]",
      "text/plain": [
       "<Figure size 432x288 with 1 Axes>"
      ]
     },
     "metadata": {},
     "output_type": "display_data"
    }
   ],
   "source": [
    "# Постройте график наиболее востребованных вакансий\n",
    "\n",
    "vacs=vacancies_dtfr.groupby('name')['id'].count().reset_index()\n",
    "\n",
    "\n",
    "\n",
    "vacs.nlargest(5, 'id').set_index('name').plot(kind='barh');"
   ]
  },
  {
   "cell_type": "code",
   "execution_count": null,
   "metadata": {},
   "outputs": [],
   "source": []
  }
 ],
 "metadata": {
  "kernelspec": {
   "display_name": "Python 3",
   "language": "python",
   "name": "python3"
  },
  "language_info": {
   "codemirror_mode": {
    "name": "ipython",
    "version": 3
   },
   "file_extension": ".py",
   "mimetype": "text/x-python",
   "name": "python",
   "nbconvert_exporter": "python",
   "pygments_lexer": "ipython3",
   "version": "3.8.8"
  }
 },
 "nbformat": 4,
 "nbformat_minor": 4
}
