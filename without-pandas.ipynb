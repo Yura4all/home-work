{
 "cells": [
  {
   "cell_type": "code",
   "execution_count": 1,
   "metadata": {},
   "outputs": [
    {
     "data": {
      "image/jpeg": "[encoded data removed]",
      "text/html": [
       "\n",
       "        <iframe\n",
       "            width=\"800\"\n",
       "            height=\"300\"\n",
       "            src=\"https://www.youtube.com/embed/lyDLAutA88s\"\n",
       "            frameborder=\"0\"\n",
       "            allowfullscreen\n",
       "        ></iframe>\n",
       "        "
      ],
      "text/plain": [
       "<IPython.lib.display.YouTubeVideo at 0x27d546dc908>"
      ]
     },
     "execution_count": 1,
     "metadata": {},
     "output_type": "execute_result"
    }
   ],
   "source": [
    "from IPython.display import YouTubeVideo\n",
    "YouTubeVideo('lyDLAutA88s', width=800, height=300)"
   ]
  },
  {
   "cell_type": "code",
   "execution_count": null,
   "metadata": {
    "collapsed": true
   },
   "outputs": [],
   "source": [
    "# 1. Посмотрите видео Дэвида Бизли про всроенные инструменты Python\n",
    "# 2. Попробуйте используя встроенные инструменты Python проанализировать таблицу из файла \"Vacancy.csv\"\n",
    "# 3. Попробуйте ответить на вопросы:\n",
    "# Сколько вакансий, которые вам нравятся?\n",
    "# Насколько свежие эти вакансии?\n",
    "# Сколько вакансий с позициями на которых вы работаете?\n",
    "# Сколько вакансий для аналатика данных?\n",
    "# Сколько вакансий для аналитика данных с использованием Python?\n",
    "\n",
    "# В задании важно не использовать pandas и numpy, а встроенные инструменты python\n",
    "# Counter, CSV, defaultdict, sorted"
   ]
  },
  {
   "cell_type": "code",
   "execution_count": 21,
   "metadata": {
    "collapsed": true
   },
   "outputs": [],
   "source": []
  },
  {
   "cell_type": "code",
   "execution_count": 187,
   "metadata": {},
   "outputs": [],
   "source": [
    "import csv\n",
    "import sys\n",
    "import collections\n",
    "from collections import Counter\n"
   ]
  },
  {
   "cell_type": "code",
   "execution_count": 18,
   "metadata": {},
   "outputs": [
    {
     "name": "stdout",
     "output_type": "stream",
     "text": [
      "2147483646\n",
      "9223372036854775807\n"
     ]
    },
    {
     "data": {
      "text/plain": [
       "2147483647"
      ]
     },
     "execution_count": 18,
     "metadata": {},
     "output_type": "execute_result"
    }
   ],
   "source": [
    "p=min(sys.maxsize, 2147483646)\n",
    "print(p)\n",
    "print(sys.maxsize)\n",
    "#csv.field_size_limit(sys.maxsize)\n",
    "csv.field_size_limit(p)"
   ]
  },
  {
   "cell_type": "code",
   "execution_count": 247,
   "metadata": {},
   "outputs": [],
   "source": [
    "vacs = list(csv.DictReader(open('C:\\\\Users\\\\yvpopov\\\\Desktop\\\\python\\\\home work\\\\vacancy.csv\\\\Vacancy.csv', encoding=\"utf8\")))"
   ]
  },
  {
   "cell_type": "code",
   "execution_count": 253,
   "metadata": {},
   "outputs": [
    {
     "name": "stdout",
     "output_type": "stream",
     "text": [
      "[('Мобильный менеджер по продажам', 229), ('Старший менеджер по обслуживанию', 172), ('Специалист по прямым продажам', 164), ('Менеджер по продажам', 86), ('Системный аналитик', 62), ('Менеджер по работе с ключевыми клиентами малого бизнеса', 53), ('Java разработчик', 40), ('Водитель-инкассатор', 38), ('Старший специалист по взысканию задолженности', 38), ('Главный клиентский менеджер малого бизнеса', 34)]\n"
     ]
    }
   ],
   "source": [
    "# топ 10 вакансий\n",
    "vactitle=Counter(row['vactitle'] for row in vacs)\n",
    "print(vactitle.most_common(10))"
   ]
  },
  {
   "cell_type": "code",
   "execution_count": 261,
   "metadata": {},
   "outputs": [
    {
     "name": "stdout",
     "output_type": "stream",
     "text": [
      "[('DevOps инженер', 9), ('Data Scientist', 7), ('Data Engineer', 7), ('Инженер по тестированию', 6), ('Администратор тестовых сред', 5), ('Системный аналитик', 5), ('Инженер нагрузочного тестирования', 4), ('Инженер по нагрузочному тестированию', 3), ('Python разработчик', 3), ('Инженер по сопровождению', 3)]\n"
     ]
    }
   ],
   "source": [
    "#  топ 10 выкансий, где требуется Python\n",
    "python_vacs=[row for row in vacs if row['vacdescription'].find('Python')!=-1]\n",
    "python_vactitles=Counter(row['vactitle'] for row in python_vacs)\n",
    "print(python_vactitles.most_common(10))"
   ]
  },
  {
   "cell_type": "code",
   "execution_count": 263,
   "metadata": {},
   "outputs": [
    {
     "name": "stdout",
     "output_type": "stream",
     "text": [
      "[('МОБИЛЬНЫЙ МЕНЕДЖЕР ПО ПРОДАЖАМ', 229), ('СТАРШИЙ МЕНЕДЖЕР ПО ОБСЛУЖИВАНИЮ', 172), ('СПЕЦИАЛИСТ ПО ПРЯМЫМ ПРОДАЖАМ', 165), ('МЕНЕДЖЕР ПО ПРОДАЖАМ', 86), ('СИСТЕМНЫЙ АНАЛИТИК', 63), ('МЕНЕДЖЕР ПО РАБОТЕ С КЛЮЧЕВЫМИ КЛИЕНТАМИ МАЛОГО БИЗНЕСА', 53), ('JAVA РАЗРАБОТЧИК', 45), ('ВОДИТЕЛЬ-ИНКАССАТОР', 38), ('СТАРШИЙ СПЕЦИАЛИСТ ПО ВЗЫСКАНИЮ ЗАДОЛЖЕННОСТИ', 38), ('ГЛАВНЫЙ КЛИЕНТСКИЙ МЕНЕДЖЕР МАЛОГО БИЗНЕСА', 34)]\n"
     ]
    }
   ],
   "source": [
    "#  приводим вакансии к верхнему регистру\n",
    "amended_vacs=[{**row,'vactitle':row['vactitle'].upper()} for row in vacs]\n",
    "amended_vactitle=Counter(row['vactitle'] for row in amended_vacs)\n",
    "print(amended_vactitle.most_common(10))"
   ]
  },
  {
   "cell_type": "code",
   "execution_count": 266,
   "metadata": {},
   "outputs": [
    {
     "name": "stdout",
     "output_type": "stream",
     "text": [
      "{'АНАЛИТИК ДАННЫХ В КОМАНДУ «ГОЛОСОВЫЕ СЦЕНАРИИ. ПЛАТЕЖИ И ПЕРЕВОДЫ»', 'DATA ANALYST (PYTHON)', 'DATA ANALYST В КОМАНДУ «ОТЧЕТНОСТЬ И АНАЛИТИКА»', 'LEAD DATA ANALYST', 'SENIOR DATA ANALYST (БЛОК УБ, КОМАНДА ИНВЕСТИЦИОННЫХ ПРОДУКТОВ)', 'DATA ANALYST ДИВИЗИОН \"ОСОБЕННЫЕ РЕШЕНИЯ\"', 'DATA ANALYST ДИВИЗИОН `МАССОВАЯ ПЕРСОНАЛИЗАЦИЯ`', 'АНАЛИТИК ДАННЫХ/АДМИНИСТРАТОР ПРОЕКТОВ', 'АНАЛИТИК ДАННЫХ (ПРОЕКТ СБЕРID)', 'АНАЛИТИК ДАННЫХ ПО ЗАТРАТАМ И РЕСУРСАМ', 'АНАЛИТИК ДАННЫХ (АНАЛИТИЧЕСКИЕ ВИТРИНЫ)', 'SENIOR DATA ANALYST. ДИВИЗИОН `ЛОЯЛЬНОСТЬ`', 'DATA ANALYST. АНАЛИТИК ДАННЫХ В ТРАЙБ «МАССОВАЯ ПЕРСОНАЛИЗАЦИЯ».', 'АНАЛИТИК ДАННЫХ В КОМАНДУ «ИНФРАСТРУКТУРА ДАННЫХ»', 'DATA ANALYST (КАЗНАЧЕЙСТВО)', 'АНАЛИТИК ДАННЫХ', 'СИСТЕМНЫЙ АНАЛИТИК/АНАЛИТИК ДАННЫХ', 'АНАЛИТИК ДАННЫХ AI', 'DATA ANALYST (\"КОРПОРАТИВНЫЕ КЛИЕНТЫ 360\")', 'АНАЛИТИК / DATA ANALYST. ДИВИЗИОН `ЛОЯЛЬНОСТЬ`', 'DATA ANALYST. СТАЖЕРА - АНАЛИТИК (КЛАСТЕР ПЕРСОНАЛЬНЫЕ ПРЕДЛОЖЕНИЯ)', 'ВЕДУЩИЙ АНАЛИТИК ДАННЫХ (КОРПОРАТИВНЫЙ БЛОК)', 'АНАЛИТИК ДАННЫХ (КОРПОРАТИВНО-ИНВЕСТИЦИОННЫЙ БЛОК)', 'DATA ANALIST', 'DATA ANALYST', 'ВЕДУЩИЙ АНАЛИТИК ДАННЫХ', 'SENIOR DATA ANALYST', 'РУКОВОДИТЕЛЬ НАПРАВЛЕНИЯ ПО АНАЛИТИКЕ ДАННЫХ В КОМАНДУ CLTV. SENIOR DATA ANALYST', 'DATA ANALYST (В ЛАБОРАТОРИЮ КЛИЕНТСКОГО ОПЫТА)', 'ВЕДУЩИЙ АНАЛИТИК ДАННЫХ . РУКОВОДИТЕЛЬ НАПРАВЛЕНИЯ ДИВИЗИОН `МАССОВАЯ ПЕРСОНАЛИЗАЦИЯ`', 'МЛАДШИЙ АНАЛИТИК ДАННЫХ/DATA SCIENTIST', 'СТАЖЕР DATA ENGINEER/DATA ANALYST', 'DATA ANALYST (ВНЕДРЕНИЕ МОДЕЛЕЙ)'}\n",
      "43\n"
     ]
    }
   ],
   "source": [
    "# Сколько вакансий для аналатика данных?\n",
    "Vactitles={row['vactitle'] for row in amended_vacs}\n",
    "Data_Analysts=[row for row in amended_vacs if row['vactitle'].find('DATA AN')!=-1 or row['vactitle'].find('АНАЛИТИК ДАННЫХ')!=-1]\n",
    "Data_Analysts_Vactitles={row['vactitle'] for row in Data_Analysts}\n",
    "print(Data_Analysts_Vactitles)\n",
    "print(len(Data_Analysts)) #43 вакансии\n",
    "\n"
   ]
  },
  {
   "cell_type": "code",
   "execution_count": 274,
   "metadata": {},
   "outputs": [
    {
     "name": "stdout",
     "output_type": "stream",
     "text": [
      "{'DATA ANALYST. АНАЛИТИК ДАННЫХ В ТРАЙБ «МАССОВАЯ ПЕРСОНАЛИЗАЦИЯ».', 'DATA ANALYST', 'АНАЛИТИК ДАННЫХ В КОМАНДУ «ИНФРАСТРУКТУРА ДАННЫХ»', 'DATA ANALYST ДИВИЗИОН `МАССОВАЯ ПЕРСОНАЛИЗАЦИЯ`', 'DATA ANALYST ДИВИЗИОН \"ОСОБЕННЫЕ РЕШЕНИЯ\"', 'АНАЛИТИК ДАННЫХ', 'АНАЛИТИК ДАННЫХ AI', 'DATA ANALYST (\"КОРПОРАТИВНЫЕ КЛИЕНТЫ 360\")', 'SENIOR DATA ANALYST. ДИВИЗИОН `ЛОЯЛЬНОСТЬ`', 'DATA ANALYST (PYTHON)', 'АНАЛИТИК ДАННЫХ (АНАЛИТИЧЕСКИЕ ВИТРИНЫ)', 'АНАЛИТИК / DATA ANALYST. ДИВИЗИОН `ЛОЯЛЬНОСТЬ`', 'ВЕДУЩИЙ АНАЛИТИК ДАННЫХ . РУКОВОДИТЕЛЬ НАПРАВЛЕНИЯ ДИВИЗИОН `МАССОВАЯ ПЕРСОНАЛИЗАЦИЯ`', 'МЛАДШИЙ АНАЛИТИК ДАННЫХ/DATA SCIENTIST', 'DATA ANALYST. СТАЖЕРА - АНАЛИТИК (КЛАСТЕР ПЕРСОНАЛЬНЫЕ ПРЕДЛОЖЕНИЯ)', 'DATA ANALYST В КОМАНДУ «ОТЧЕТНОСТЬ И АНАЛИТИКА»', 'LEAD DATA ANALYST', 'DATA ANALIST', 'SENIOR DATA ANALYST (БЛОК УБ, КОМАНДА ИНВЕСТИЦИОННЫХ ПРОДУКТОВ)', 'DATA ANALYST (ВНЕДРЕНИЕ МОДЕЛЕЙ)'}\n"
     ]
    },
    {
     "data": {
      "text/plain": [
       "23"
      ]
     },
     "execution_count": 274,
     "metadata": {},
     "output_type": "execute_result"
    }
   ],
   "source": [
    "# Сколько вакансий для аналитика данных с использованием Python?\n",
    "python_vacs_da=[row for row in Data_Analysts if row['vacdescription'].find('Python')!=-1]\n",
    "python_vacs_da_titles={row['vactitle'] for row in python_vacs_da}\n",
    "print(python_vacs_da_titles)\n",
    "len(python_vacs_da) #23 вакансии\n"
   ]
  },
  {
   "cell_type": "code",
   "execution_count": 311,
   "metadata": {},
   "outputs": [
    {
     "name": "stdout",
     "output_type": "stream",
     "text": [
      "{'ФИНАНСОВЫЙ КОНСУЛЬТАНТ', 'ФИНАНСОВЫЙ СОВЕТНИК СБЕРБАНК ПЕРВЫЙ', 'ФИНАНСОВЫЙ АНАЛИТИК', 'ФИНАНСОВЫЙ СОВЕТНИК'}\n"
     ]
    },
    {
     "data": {
      "text/plain": [
       "9"
      ]
     },
     "execution_count": 311,
     "metadata": {},
     "output_type": "execute_result"
    }
   ],
   "source": [
    "# Какие вакансии нравятся\n",
    "Financial_vacancies=[row for row in amended_vacs if row['vactitle'][:10]=='ФИНАНСОВЫЙ']\n",
    "Financial_Vactitles={row['vactitle'] for row in Financial_vacancies}\n",
    "Financial_description={row['vacdescription'] for row in Financial_vacancies}\n",
    "print(Financial_Vactitles)\n",
    "len(Financial_vacancies) # 9 вакансий\n",
    "\n"
   ]
  },
  {
   "cell_type": "code",
   "execution_count": 317,
   "metadata": {
    "pycharm": {
     "name": "#%%\n"
    }
   },
   "outputs": [
    {
     "name": "stdout",
     "output_type": "stream",
     "text": [
      "Counter({'2021-03-14 09:39:21.854462': 9})\n"
     ]
    }
   ],
   "source": [
    "# даты вакансий, которые нравятся\n",
    "Financial_vacancies_date=[row['created_at'] for row in Financial_vacancies]\n",
    "print(Counter(Financial_vacancies_date))"
   ]
  },
  {
   "cell_type": "code",
   "execution_count": 321,
   "metadata": {},
   "outputs": [
    {
     "name": "stdout",
     "output_type": "stream",
     "text": [
      "{'Сбер — больше чем банк, это вселенная полезных сервисов для повседневной жизни человека.Сбер сегодня - это гибкие методологии разработки Agile, масштабные высоконагруженные проекты, а также современные технологии. Каждый из нас превращает банк в экосистему, которая окружает человека удобными сервисами и продуктами для жизни. Вам предстоит:Подготовка аналитических  материалов для руководства и коллегиальных органов ПАО Сбербанк (сбор и анализ данных, выявление тенденций и причин отклонений, оценка результатов, подготовка рекомендаций);Подготовка презентационных аналитических материалов по направлениям расходов, территориальным группам, уровням управления;Подготовка (рассчитывает и готовит представления) данных из различных источников с использование инструментов (Power Point, Excel, SQL, Qlik View/Sence, Tableau и пр.);Подготавка требований к автоматизации, методологическое сопровождение и тестирование доработок управленческой отчетности и аналитических данных в автоматизированных системах;Участие в проектах по автоматизации в качестве бизнес-заказчика.Команда, ожидает, что у вас есть:Имеете законченное высшее образование;Знания или опыт работы в одной или нескольких областях: финансы, аналитика данных, управленческая отчетность, бюджетирование, мотивация;Опыт формирования аналитических материалов, презентаций;Грамотная речь и навыки структурированного изложения мыслей;Продвинутый уровень владения MS Excel, приветствуется знание VBA, SQL, Qlik, Python. Мы предлагаем:Условия работы: пятидневную рабочую неделю, офис в центре города, возможность дистанционной работы, отсутствие строгого дресс-кода;Уровень заработной платы, который зависит от ваших технических знаний и навыков, состоит из оклада и годового премирования;Мероприятия: праздники, командные выезды, интеллектуальные и спортивные игры, благотворительные проекты;Заботу о здоровье: корпоративную программу ДМС (включает стоматологию, обследования, лечение заболеваний и т.д.), бесплатный тренажерный зал, страхование жизни;Знания: индивидуальный план обучения с учебными курсами и поездками на конференции за счет работодателя, учеба в Корпоративном Университете Сбера;Особые условия для сотрудников: льготные условия кредитования, специальные курсы обмена валюты, дисконт-программы от партнеров банка. Добро пожаловать в Сбер!Сбер — больше чем банк, это вселенная полезных сервисов для повседневной жизни человека.Сбер сегодня - это гибкие методологии разработки Agile, масштабные высоконагруженные проекты, а также современные технологии. Каждый из нас превращает банк в экосистему, которая окружает человека удобными сервисами и продуктами для жизни. Вам предстоит:Подготовка аналитических  материалов для руководства и коллегиальных органов ПАО Сбербанк (сбор и анализ данных, выявление тенденций и причин отклонений, оценка результатов, подготовка рекомендаций);Подготовка презентационных аналитических материалов по направлениям расходов, территориальным группам, уровням управления;Подготовка (рассчитывает и готовит представления) данных из различных источников с использование инструментов (Power Point, Excel, SQL, Qlik View/Sence, Tableau и пр.);Подготавка требований к автоматизации, методологическое сопровождение и тестирование доработок управленческой отчетности и аналитических данных в автоматизированных системах;Участие в проектах по автоматизации в качестве бизнес-заказчика.Команда, ожидает, что у вас есть:Имеете законченное высшее образование;Знания или опыт работы в одной или нескольких областях: финансы, аналитика данных, управленческая отчетность, бюджетирование, мотивация;Опыт формирования аналитических материалов, презентаций;Грамотная речь и навыки структурированного изложения мыслей;Продвинутый уровень владения MS Excel, приветствуется знание VBA, SQL, Qlik, Python. Мы предлагаем:Условия работы: пятидневную рабочую неделю, офис в центре города, возможность дистанционной работы, отсутствие строгого дресс-кода;Уровень заработной платы, который зависит от ваших технических знаний и навыков, состоит из оклада и годового премирования;Мероприятия: праздники, командные выезды, интеллектуальные и спортивные игры, благотворительные проекты;Заботу о здоровье: корпоративную программу ДМС (включает стоматологию, обследования, лечение заболеваний и т.д.), бесплатный тренажерный зал, страхование жизни;Знания: индивидуальный план обучения с учебными курсами и поездками на конференции за счет работодателя, учеба в Корпоративном Университете Сбера;Особые условия для сотрудников: льготные условия кредитования, специальные курсы обмена валюты, дисконт-программы от партнеров банка. Добро пожаловать в Сбер!'}\n"
     ]
    }
   ],
   "source": [
    "# Сколько вакансий с позициями на которых вы работаете?\n",
    "Financial_analyst_vacancies=[row for row in amended_vacs if row['vactitle'].find('ФИНАНСОВЫЙ АНАЛИТИК')!=-1]\n",
    "len(Financial_analyst_vacancies) # 1 вакансия которая отдаленно  нопоминает мою - я стратег по валютным рынкам\n",
    "print({row['vacdescription'] for row in Financial_analyst_vacancies})"
   ]
  },
  {
   "cell_type": "code",
   "execution_count": 121,
   "metadata": {},
   "outputs": [
    {
     "data": {
      "text/plain": [
       "OrderedDict([('id', '383479'),\n",
       "             ('created_at', '2021-03-14 09:39:21.854462'),\n",
       "             ('updated_at', '2021-03-14 09:39:21.854584'),\n",
       "             ('vacid', '1474941'),\n",
       "             ('vactitle', 'Senior java-разработчик (в команду Онбординга)'),\n",
       "             ('vacdescription',\n",
       "              ' Работа у нас — это:команда профессионалов, готовых поддержать ваши инициативы;мощное железо, дополнительные мониторы и всё, что нужно для продуктивной работы;обучение за счёт компании;гибкий графиккрасивый и комфортный офис  г. Санкт-Петербург, м. Ладожская  пл. Карла Фаберже 8 ВДМС;прозрачная система бонусов и премий, достойная зарплата — размер обсудим на собеседовании.Информация о проекте:Наша команда делает новые экспериментальные фичи для СБОЛа.Сейчас мы разрабатываем систему, с помощью которой разные команды Сбера смогут создавать квесты для мобильного приложения.Также мы будем разрабатывать внутреннюю платформу для продуктовых экспериментов. Описание команды:2-pizza team: сейчас у нас работают разработчики iOS и Android, продакт и аналитик. К команде в ближайшее время подключится тестировщик и еще один аналитик. Мы ожидаем, что Вы:Работали раннее в продуктовой agile-команде;Имеете опыт работы больше 4 лет с Java и ее экосистемой;Владеете Spring: Core, MVC, Boot, Cloud;Работали с реляционными БД;Трепетно относитесь к тестовому покрытию;Будете относиться с заботой к нашим пользователям, продукту и команде. Будет здорово, если вы:Умеете готовить ansible;Работали с k8s;Использовали kafka;Умеете оптимизировать SQL-запросы. Вам предстоит:отвечать за качество технических решений;придумывать реализацию для безумных идей наших продактов;разрабатывать сервисы, интегрироваться с множеством систем банка.Информация о проекте:Наша команда делает новые экспериментальные фичи для СБОЛа.Сейчас мы разрабатываем систему, с помощью которой разные команды Сбера смогут создавать квесты для мобильного приложения.Также мы будем разрабатывать внутреннюю платформу для продуктовых экспериментов. Описание команды:2-pizza team: сейчас у нас работают разработчики iOS и Android, продакт и аналитик. К команде в ближайшее время подключится тестировщик и еще один аналитик. Мы ожидаем, что Вы:Работали раннее в продуктовой agile-команде;Имеете опыт работы больше 4 лет с Java и ее экосистемой;Владеете Spring: Core, MVC, Boot, Cloud;Работали с реляционными БД;Трепетно относитесь к тестовому покрытию;Будете относиться с заботой к нашим пользователям, продукту и команде. Будет здорово, если вы:Умеете готовить ansible;Работали с k8s;Использовали kafka;Умеете оптимизировать SQL-запросы. Вам предстоит:отвечать за качество технических решений;придумывать реализацию для безумных идей наших продактов;разрабатывать сервисы, интегрироваться с множеством систем банка. Работа у нас — это:команда профессионалов, готовых поддержать ваши инициативы;мощное железо, дополнительные мониторы и всё, что нужно для продуктивной работы;обучение за счёт компании;гибкий графиккрасивый и комфортный офис  г. Санкт-Петербург, м. Ладожская  пл. Карла Фаберже 8 ВДМС;прозрачная система бонусов и премий, достойная зарплата — размер обсудим на собеседовании.'),\n",
       "             ('vacdate', '2021-03-15'),\n",
       "             ('vacstatus', 'new'),\n",
       "             ('vaclink',\n",
       "              'https://my.sbertalents.ru/#/job-requisition/1474941'),\n",
       "             ('vachtml',\n",
       "              '{\"title\": \"Senior java-\\\\u0440\\\\u0430\\\\u0437\\\\u0440\\\\u0430\\\\u0431\\\\u043e\\\\u0442\\\\u0447\\\\u0438\\\\u043a (\\\\u0432 \\\\u043a\\\\u043e\\\\u043c\\\\u0430\\\\u043d\\\\u0434\\\\u0443 \\\\u041e\\\\u043d\\\\u0431\\\\u043e\\\\u0440\\\\u0434\\\\u0438\\\\u043d\\\\u0433\\\\u0430)\", \"footer\": \"<p class=\\\\\"1\\\\\">&nbsp;</p><p class=\\\\\"1\\\\\"><strong><span style=\\\\\"font-size:14px\\\\\"><span lang=\\\\\"ru\\\\\"><span style=\\\\\"background:white\\\\\">\\\\u0420\\\\u0430\\\\u0431\\\\u043e\\\\u0442\\\\u0430 \\\\u0443 \\\\u043d\\\\u0430\\\\u0441 &mdash; \\\\u044d\\\\u0442\\\\u043e:</span></span></span></strong></p><ul><li class=\\\\\"1\\\\\"><span lang=\\\\\"ru\\\\\" style=\\\\\"font-size:10.5pt\\\\\"><span style=\\\\\"background:white\\\\\">\\\\u043a\\\\u043e\\\\u043c\\\\u0430\\\\u043d\\\\u0434\\\\u0430 \\\\u043f\\\\u0440\\\\u043e\\\\u0444\\\\u0435\\\\u0441\\\\u0441\\\\u0438\\\\u043e\\\\u043d\\\\u0430\\\\u043b\\\\u043e\\\\u0432, \\\\u0433\\\\u043e\\\\u0442\\\\u043e\\\\u0432\\\\u044b\\\\u0445 \\\\u043f\\\\u043e\\\\u0434\\\\u0434\\\\u0435\\\\u0440\\\\u0436\\\\u0430\\\\u0442\\\\u044c \\\\u0432\\\\u0430\\\\u0448\\\\u0438 \\\\u0438\\\\u043d\\\\u0438\\\\u0446\\\\u0438\\\\u0430\\\\u0442\\\\u0438\\\\u0432\\\\u044b;</span></span></li><li class=\\\\\"1\\\\\"><span lang=\\\\\"ru\\\\\" style=\\\\\"font-size:10.5pt\\\\\"><span style=\\\\\"background:white\\\\\">\\\\u043c\\\\u043e\\\\u0449\\\\u043d\\\\u043e\\\\u0435 \\\\u0436\\\\u0435\\\\u043b\\\\u0435\\\\u0437\\\\u043e, \\\\u0434\\\\u043e\\\\u043f\\\\u043e\\\\u043b\\\\u043d\\\\u0438\\\\u0442\\\\u0435\\\\u043b\\\\u044c\\\\u043d\\\\u044b\\\\u0435 \\\\u043c\\\\u043e\\\\u043d\\\\u0438\\\\u0442\\\\u043e\\\\u0440\\\\u044b \\\\u0438 \\\\u0432\\\\u0441\\\\u0451, \\\\u0447\\\\u0442\\\\u043e \\\\u043d\\\\u0443\\\\u0436\\\\u043d\\\\u043e \\\\u0434\\\\u043b\\\\u044f \\\\u043f\\\\u0440\\\\u043e\\\\u0434\\\\u0443\\\\u043a\\\\u0442\\\\u0438\\\\u0432\\\\u043d\\\\u043e\\\\u0439 \\\\u0440\\\\u0430\\\\u0431\\\\u043e\\\\u0442\\\\u044b;</span></span></li><li class=\\\\\"1\\\\\"><span lang=\\\\\"ru\\\\\" style=\\\\\"font-size:10.5pt\\\\\"><span style=\\\\\"background:white\\\\\">\\\\u043e\\\\u0431\\\\u0443\\\\u0447\\\\u0435\\\\u043d\\\\u0438\\\\u0435 \\\\u0437\\\\u0430 \\\\u0441\\\\u0447\\\\u0451\\\\u0442 \\\\u043a\\\\u043e\\\\u043c\\\\u043f\\\\u0430\\\\u043d\\\\u0438\\\\u0438;</span></span></li><li class=\\\\\"1\\\\\"><span lang=\\\\\"ru\\\\\" style=\\\\\"font-size:10.5pt\\\\\"><span style=\\\\\"background:white\\\\\">\\\\u0433\\\\u0438\\\\u0431\\\\u043a\\\\u0438\\\\u0439 \\\\u0433\\\\u0440\\\\u0430\\\\u0444\\\\u0438\\\\u043a</span></span></li><li class=\\\\\"1\\\\\"><span lang=\\\\\"ru\\\\\" style=\\\\\"font-size:10.5pt\\\\\"><span style=\\\\\"background:white\\\\\">\\\\u043a\\\\u0440\\\\u0430\\\\u0441\\\\u0438\\\\u0432\\\\u044b\\\\u0439 \\\\u0438 \\\\u043a\\\\u043e\\\\u043c\\\\u0444\\\\u043e\\\\u0440\\\\u0442\\\\u043d\\\\u044b\\\\u0439 \\\\u043e\\\\u0444\\\\u0438\\\\u0441&nbsp;&nbsp;</span></span><span style=\\\\\"font-size:10.5pt\\\\\">\\\\u0433. \\\\u0421\\\\u0430\\\\u043d\\\\u043a\\\\u0442-\\\\u041f\\\\u0435\\\\u0442\\\\u0435\\\\u0440\\\\u0431\\\\u0443\\\\u0440\\\\u0433, </span><span lang=\\\\\"ru\\\\\" style=\\\\\"font-size:10.5pt\\\\\"><span style=\\\\\"background:white\\\\\">\\\\u043c. \\\\u041b\\\\u0430\\\\u0434\\\\u043e\\\\u0436\\\\u0441\\\\u043a\\\\u0430\\\\u044f&nbsp;&nbsp;</span></span><span style=\\\\\"font-size:10.5pt\\\\\">\\\\u043f\\\\u043b. \\\\u041a\\\\u0430\\\\u0440\\\\u043b\\\\u0430 \\\\u0424\\\\u0430\\\\u0431\\\\u0435\\\\u0440\\\\u0436\\\\u0435 8 \\\\u0412</span></li><li class=\\\\\"1\\\\\"><span lang=\\\\\"ru\\\\\" style=\\\\\"font-size:10.5pt\\\\\"><span style=\\\\\"background:white\\\\\">\\\\u0414\\\\u041c\\\\u0421;</span></span></li><li class=\\\\\"1\\\\\"><span lang=\\\\\"ru\\\\\" style=\\\\\"font-size:10.5pt\\\\\"><span style=\\\\\"background:white\\\\\">\\\\u043f\\\\u0440\\\\u043e\\\\u0437\\\\u0440\\\\u0430\\\\u0447\\\\u043d\\\\u0430\\\\u044f \\\\u0441\\\\u0438\\\\u0441\\\\u0442\\\\u0435\\\\u043c\\\\u0430 \\\\u0431\\\\u043e\\\\u043d\\\\u0443\\\\u0441\\\\u043e\\\\u0432 \\\\u0438 \\\\u043f\\\\u0440\\\\u0435\\\\u043c\\\\u0438\\\\u0439, \\\\u0434\\\\u043e\\\\u0441\\\\u0442\\\\u043e\\\\u0439\\\\u043d\\\\u0430\\\\u044f \\\\u0437\\\\u0430\\\\u0440\\\\u043f\\\\u043b\\\\u0430\\\\u0442\\\\u0430 &mdash; \\\\u0440\\\\u0430\\\\u0437\\\\u043c\\\\u0435\\\\u0440 \\\\u043e\\\\u0431\\\\u0441\\\\u0443\\\\u0434\\\\u0438\\\\u043c \\\\u043d\\\\u0430 \\\\u0441\\\\u043e\\\\u0431\\\\u0435\\\\u0441\\\\u0435\\\\u0434\\\\u043e\\\\u0432\\\\u0430\\\\u043d\\\\u0438\\\\u0438.</span></span></li></ul>\", \"header\": \"<p class=\\\\\"1\\\\\"><span style=\\\\\"font-size:14px\\\\\"><strong><span style=\\\\\"background:white\\\\\">\\\\u0418\\\\u043d\\\\u0444\\\\u043e\\\\u0440\\\\u043c\\\\u0430\\\\u0446\\\\u0438\\\\u044f </span><span lang=\\\\\"ru\\\\\" style=\\\\\"background:white\\\\\">\\\\u043e \\\\u043f\\\\u0440\\\\u043e\\\\u0435\\\\u043a\\\\u0442\\\\u0435:</span></strong></span></p><p class=\\\\\"1\\\\\"><span><span style=\\\\\"font-size:10.5pt\\\\\"><span style=\\\\\"background:white\\\\\"><span><span style=\\\\\"color:#333333\\\\\">\\\\u041d\\\\u0430\\\\u0448\\\\u0430 \\\\u043a\\\\u043e\\\\u043c\\\\u0430\\\\u043d\\\\u0434\\\\u0430 \\\\u0434\\\\u0435\\\\u043b\\\\u0430\\\\u0435\\\\u0442 \\\\u043d\\\\u043e\\\\u0432\\\\u044b\\\\u0435 \\\\u044d\\\\u043a\\\\u0441\\\\u043f\\\\u0435\\\\u0440\\\\u0438\\\\u043c\\\\u0435\\\\u043d\\\\u0442\\\\u0430\\\\u043b\\\\u044c\\\\u043d\\\\u044b\\\\u0435 \\\\u0444\\\\u0438\\\\u0447\\\\u0438 \\\\u0434\\\\u043b\\\\u044f \\\\u0421\\\\u0411\\\\u041e\\\\u041b\\\\u0430.</span></span></span></span></span></p><p class=\\\\\"1\\\\\"><span><span style=\\\\\"font-size:10.5pt\\\\\"><span style=\\\\\"background:white\\\\\"><span><span style=\\\\\"color:#333333\\\\\">\\\\u0421\\\\u0435\\\\u0439\\\\u0447\\\\u0430\\\\u0441 \\\\u043c\\\\u044b \\\\u0440\\\\u0430\\\\u0437\\\\u0440\\\\u0430\\\\u0431\\\\u0430\\\\u0442\\\\u044b\\\\u0432\\\\u0430\\\\u0435\\\\u043c \\\\u0441\\\\u0438\\\\u0441\\\\u0442\\\\u0435\\\\u043c\\\\u0443, \\\\u0441 \\\\u043f\\\\u043e\\\\u043c\\\\u043e\\\\u0449\\\\u044c\\\\u044e \\\\u043a\\\\u043e\\\\u0442\\\\u043e\\\\u0440\\\\u043e\\\\u0439 \\\\u0440\\\\u0430\\\\u0437\\\\u043d\\\\u044b\\\\u0435 \\\\u043a\\\\u043e\\\\u043c\\\\u0430\\\\u043d\\\\u0434\\\\u044b \\\\u0421\\\\u0431\\\\u0435\\\\u0440\\\\u0430 \\\\u0441\\\\u043c\\\\u043e\\\\u0433\\\\u0443\\\\u0442 \\\\u0441\\\\u043e\\\\u0437\\\\u0434\\\\u0430\\\\u0432\\\\u0430\\\\u0442\\\\u044c \\\\u043a\\\\u0432\\\\u0435\\\\u0441\\\\u0442\\\\u044b \\\\u0434\\\\u043b\\\\u044f \\\\u043c\\\\u043e\\\\u0431\\\\u0438\\\\u043b\\\\u044c\\\\u043d\\\\u043e\\\\u0433\\\\u043e \\\\u043f\\\\u0440\\\\u0438\\\\u043b\\\\u043e\\\\u0436\\\\u0435\\\\u043d\\\\u0438\\\\u044f.</span></span></span></span></span></p><p class=\\\\\"1\\\\\"><span><span style=\\\\\"font-size:10.5pt\\\\\"><span style=\\\\\"background:white\\\\\"><span><span style=\\\\\"color:#333333\\\\\">\\\\u0422\\\\u0430\\\\u043a\\\\u0436\\\\u0435 \\\\u043c\\\\u044b \\\\u0431\\\\u0443\\\\u0434\\\\u0435\\\\u043c \\\\u0440\\\\u0430\\\\u0437\\\\u0440\\\\u0430\\\\u0431\\\\u0430\\\\u0442\\\\u044b\\\\u0432\\\\u0430\\\\u0442\\\\u044c \\\\u0432\\\\u043d\\\\u0443\\\\u0442\\\\u0440\\\\u0435\\\\u043d\\\\u043d\\\\u044e\\\\u044e \\\\u043f\\\\u043b\\\\u0430\\\\u0442\\\\u0444\\\\u043e\\\\u0440\\\\u043c\\\\u0443 \\\\u0434\\\\u043b\\\\u044f \\\\u043f\\\\u0440\\\\u043e\\\\u0434\\\\u0443\\\\u043a\\\\u0442\\\\u043e\\\\u0432\\\\u044b\\\\u0445 \\\\u044d\\\\u043a\\\\u0441\\\\u043f\\\\u0435\\\\u0440\\\\u0438\\\\u043c\\\\u0435\\\\u043d\\\\u0442\\\\u043e\\\\u0432.</span></span></span></span></span></p><p class=\\\\\"1\\\\\">&nbsp;</p><p class=\\\\\"1\\\\\"><span style=\\\\\"font-size:14px\\\\\"><strong><span lang=\\\\\"ru\\\\\"><span style=\\\\\"background:white\\\\\">\\\\u041e\\\\u043f\\\\u0438\\\\u0441\\\\u0430\\\\u043d\\\\u0438\\\\u0435 \\\\u043a\\\\u043e\\\\u043c\\\\u0430\\\\u043d\\\\u0434\\\\u044b:</span></span></strong></span></p><p class=\\\\\"1\\\\\"><span><span style=\\\\\"font-size:10.5pt\\\\\"><span style=\\\\\"background:white\\\\\"><span>2-</span></span></span><span lang=\\\\\"EN-US\\\\\" style=\\\\\"font-size:10.5pt\\\\\"><span style=\\\\\"background:white\\\\\"><span>pizza</span></span></span> <span lang=\\\\\"EN-US\\\\\" style=\\\\\"font-size:10.5pt\\\\\"><span style=\\\\\"background:white\\\\\"><span>team</span></span></span><span style=\\\\\"font-size:10.5pt\\\\\"><span style=\\\\\"background:white\\\\\"><span>: \\\\u0441\\\\u0435\\\\u0439\\\\u0447\\\\u0430\\\\u0441 \\\\u0443 \\\\u043d\\\\u0430\\\\u0441 \\\\u0440\\\\u0430\\\\u0431\\\\u043e\\\\u0442\\\\u0430\\\\u044e\\\\u0442 \\\\u0440\\\\u0430\\\\u0437\\\\u0440\\\\u0430\\\\u0431\\\\u043e\\\\u0442\\\\u0447\\\\u0438\\\\u043a\\\\u0438 </span></span></span><span lang=\\\\\"EN-US\\\\\" style=\\\\\"font-size:10.5pt\\\\\"><span style=\\\\\"background:white\\\\\"><span>iOS</span></span></span> <span style=\\\\\"font-size:10.5pt\\\\\"><span style=\\\\\"background:white\\\\\"><span>\\\\u0438 </span></span></span><span lang=\\\\\"EN-US\\\\\" style=\\\\\"font-size:10.5pt\\\\\"><span style=\\\\\"background:white\\\\\"><span>Android</span></span></span><span style=\\\\\"font-size:10.5pt\\\\\"><span style=\\\\\"background:white\\\\\"><span>, \\\\u043f\\\\u0440\\\\u043e\\\\u0434\\\\u0430\\\\u043a\\\\u0442 \\\\u0438 \\\\u0430\\\\u043d\\\\u0430\\\\u043b\\\\u0438\\\\u0442\\\\u0438\\\\u043a. </span></span></span></span></p><p class=\\\\\"1\\\\\"><span><span style=\\\\\"font-size:10.5pt\\\\\"><span style=\\\\\"background:white\\\\\"><span>\\\\u041a \\\\u043a\\\\u043e\\\\u043c\\\\u0430\\\\u043d\\\\u0434\\\\u0435 \\\\u0432 \\\\u0431\\\\u043b\\\\u0438\\\\u0436\\\\u0430\\\\u0439\\\\u0448\\\\u0435\\\\u0435 \\\\u0432\\\\u0440\\\\u0435\\\\u043c\\\\u044f \\\\u043f\\\\u043e\\\\u0434\\\\u043a\\\\u043b\\\\u044e\\\\u0447\\\\u0438\\\\u0442\\\\u0441\\\\u044f \\\\u0442\\\\u0435\\\\u0441\\\\u0442\\\\u0438\\\\u0440\\\\u043e\\\\u0432\\\\u0449\\\\u0438\\\\u043a \\\\u0438 \\\\u0435\\\\u0449\\\\u0435 \\\\u043e\\\\u0434\\\\u0438\\\\u043d \\\\u0430\\\\u043d\\\\u0430\\\\u043b\\\\u0438\\\\u0442\\\\u0438\\\\u043a.</span></span></span></span></p><p class=\\\\\"1\\\\\">&nbsp;</p><p class=\\\\\"1\\\\\"><span style=\\\\\"font-size:14px\\\\\"><strong><span lang=\\\\\"ru\\\\\"><span style=\\\\\"background:white\\\\\">\\\\u041c\\\\u044b \\\\u043e\\\\u0436\\\\u0438\\\\u0434\\\\u0430\\\\u0435\\\\u043c, \\\\u0447\\\\u0442\\\\u043e \\\\u0412\\\\u044b:</span></span></strong></span></p><ul><li class=\\\\\"1\\\\\"><span><span style=\\\\\"color:black\\\\\">\\\\u0420\\\\u0430\\\\u0431\\\\u043e\\\\u0442\\\\u0430\\\\u043b\\\\u0438 \\\\u0440\\\\u0430\\\\u043d\\\\u043d\\\\u0435\\\\u0435 \\\\u0432 \\\\u043f\\\\u0440\\\\u043e\\\\u0434\\\\u0443\\\\u043a\\\\u0442\\\\u043e\\\\u0432\\\\u043e\\\\u0439 </span><span lang=\\\\\"EN-US\\\\\" style=\\\\\"color:black\\\\\">agile</span><span style=\\\\\"color:black\\\\\">-\\\\u043a\\\\u043e\\\\u043c\\\\u0430\\\\u043d\\\\u0434\\\\u0435;</span></span></li><li class=\\\\\"1\\\\\"><span><span style=\\\\\"color:black\\\\\">\\\\u0418\\\\u043c\\\\u0435\\\\u0435\\\\u0442\\\\u0435 \\\\u043e\\\\u043f\\\\u044b\\\\u0442 \\\\u0440\\\\u0430\\\\u0431\\\\u043e\\\\u0442\\\\u044b \\\\u0431\\\\u043e\\\\u043b\\\\u044c\\\\u0448\\\\u0435 4 \\\\u043b\\\\u0435\\\\u0442 \\\\u0441 </span><span lang=\\\\\"EN-US\\\\\" style=\\\\\"color:black\\\\\">Java</span> <span style=\\\\\"color:black\\\\\">\\\\u0438 \\\\u0435\\\\u0435 \\\\u044d\\\\u043a\\\\u043e\\\\u0441\\\\u0438\\\\u0441\\\\u0442\\\\u0435\\\\u043c\\\\u043e\\\\u0439;</span></span></li><li class=\\\\\"1\\\\\"><span><span style=\\\\\"color:black\\\\\">\\\\u0412\\\\u043b\\\\u0430\\\\u0434\\\\u0435\\\\u0435\\\\u0442\\\\u0435</span><span style=\\\\\"color:black\\\\\"> Spring: Core, MVC, Boot, Cloud;</span></span></li><li class=\\\\\"1\\\\\"><span><span style=\\\\\"color:black\\\\\">\\\\u0420\\\\u0430\\\\u0431\\\\u043e\\\\u0442\\\\u0430\\\\u043b\\\\u0438 \\\\u0441 \\\\u0440\\\\u0435\\\\u043b\\\\u044f\\\\u0446\\\\u0438\\\\u043e\\\\u043d\\\\u043d\\\\u044b\\\\u043c\\\\u0438 \\\\u0411\\\\u0414</span><span lang=\\\\\"EN-US\\\\\" style=\\\\\"font-size:10.5pt\\\\\"><span>;</span></span></span></li><li class=\\\\\"1\\\\\"><span><span style=\\\\\"font-size:10.5pt\\\\\"><span>\\\\u0422\\\\u0440\\\\u0435\\\\u043f\\\\u0435\\\\u0442\\\\u043d\\\\u043e \\\\u043e\\\\u0442\\\\u043d\\\\u043e\\\\u0441\\\\u0438\\\\u0442\\\\u0435\\\\u0441\\\\u044c \\\\u043a \\\\u0442\\\\u0435\\\\u0441\\\\u0442\\\\u043e\\\\u0432\\\\u043e\\\\u043c\\\\u0443 \\\\u043f\\\\u043e\\\\u043a\\\\u0440\\\\u044b\\\\u0442\\\\u0438\\\\u044e;</span></span></span></li><li class=\\\\\"1\\\\\"><span><span style=\\\\\"color:black\\\\\">\\\\u0411\\\\u0443\\\\u0434\\\\u0435\\\\u0442\\\\u0435 \\\\u043e\\\\u0442\\\\u043d\\\\u043e\\\\u0441\\\\u0438\\\\u0442\\\\u044c\\\\u0441\\\\u044f \\\\u0441 \\\\u0437\\\\u0430\\\\u0431\\\\u043e\\\\u0442\\\\u043e\\\\u0439 \\\\u043a \\\\u043d\\\\u0430\\\\u0448\\\\u0438\\\\u043c \\\\u043f\\\\u043e\\\\u043b\\\\u044c\\\\u0437\\\\u043e\\\\u0432\\\\u0430\\\\u0442\\\\u0435\\\\u043b\\\\u044f\\\\u043c, \\\\u043f\\\\u0440\\\\u043e\\\\u0434\\\\u0443\\\\u043a\\\\u0442\\\\u0443 \\\\u0438 \\\\u043a\\\\u043e\\\\u043c\\\\u0430\\\\u043d\\\\u0434\\\\u0435.</span></span></li></ul><p class=\\\\\"1\\\\\">&nbsp;</p><p class=\\\\\"1\\\\\"><span style=\\\\\"font-size:14px\\\\\"><strong><span lang=\\\\\"ru\\\\\"><span style=\\\\\"background:white\\\\\">\\\\u0411\\\\u0443\\\\u0434\\\\u0435\\\\u0442 \\\\u0437\\\\u0434\\\\u043e\\\\u0440\\\\u043e\\\\u0432\\\\u043e, \\\\u0435\\\\u0441\\\\u043b\\\\u0438 \\\\u0432\\\\u044b:</span></span></strong></span></p><ul><li class=\\\\\"1\\\\\"><span><span style=\\\\\"color:black\\\\\">\\\\u0423\\\\u043c\\\\u0435\\\\u0435\\\\u0442\\\\u0435 \\\\u0433\\\\u043e\\\\u0442\\\\u043e\\\\u0432\\\\u0438\\\\u0442\\\\u044c </span><span lang=\\\\\"EN-US\\\\\" style=\\\\\"color:black\\\\\">ansible;</span></span></li><li class=\\\\\"1\\\\\"><span><span style=\\\\\"color:black\\\\\">\\\\u0420\\\\u0430\\\\u0431\\\\u043e\\\\u0442\\\\u0430\\\\u043b\\\\u0438 \\\\u0441 </span><span lang=\\\\\"EN-US\\\\\" style=\\\\\"color:black\\\\\">k8s;</span></span></li><li class=\\\\\"1\\\\\"><span><span style=\\\\\"color:black\\\\\">\\\\u0418\\\\u0441\\\\u043f\\\\u043e\\\\u043b\\\\u044c\\\\u0437\\\\u043e\\\\u0432\\\\u0430\\\\u043b\\\\u0438 </span><span lang=\\\\\"EN-US\\\\\" style=\\\\\"color:black\\\\\">kafka;</span></span></li><li class=\\\\\"1\\\\\"><span><span style=\\\\\"color:black\\\\\">\\\\u0423\\\\u043c\\\\u0435\\\\u0435\\\\u0442\\\\u0435 \\\\u043e\\\\u043f\\\\u0442\\\\u0438\\\\u043c\\\\u0438\\\\u0437\\\\u0438\\\\u0440\\\\u043e\\\\u0432\\\\u0430\\\\u0442\\\\u044c </span><span lang=\\\\\"EN-US\\\\\" style=\\\\\"color:black\\\\\">SQL</span><span style=\\\\\"color:black\\\\\">-\\\\u0437\\\\u0430\\\\u043f\\\\u0440\\\\u043e\\\\u0441\\\\u044b.</span></span></li></ul><p class=\\\\\"1\\\\\">&nbsp;</p><p class=\\\\\"1\\\\\"><span style=\\\\\"font-size:14px\\\\\"><strong><span lang=\\\\\"ru\\\\\"><span style=\\\\\"background:white\\\\\">\\\\u0412\\\\u0430\\\\u043c \\\\u043f\\\\u0440\\\\u0435\\\\u0434\\\\u0441\\\\u0442\\\\u043e\\\\u0438\\\\u0442:</span></span></strong></span></p><ul><li class=\\\\\"1\\\\\"><span><span style=\\\\\"color:black\\\\\">\\\\u043e\\\\u0442\\\\u0432\\\\u0435\\\\u0447\\\\u0430\\\\u0442\\\\u044c \\\\u0437\\\\u0430 \\\\u043a\\\\u0430\\\\u0447\\\\u0435\\\\u0441\\\\u0442\\\\u0432\\\\u043e \\\\u0442\\\\u0435\\\\u0445\\\\u043d\\\\u0438\\\\u0447\\\\u0435\\\\u0441\\\\u043a\\\\u0438\\\\u0445 \\\\u0440\\\\u0435\\\\u0448\\\\u0435\\\\u043d\\\\u0438\\\\u0439;</span></span></li><li class=\\\\\"1\\\\\"><span><span style=\\\\\"color:black\\\\\">\\\\u043f\\\\u0440\\\\u0438\\\\u0434\\\\u0443\\\\u043c\\\\u044b\\\\u0432\\\\u0430\\\\u0442\\\\u044c </span><span style=\\\\\"font-size:10.5pt\\\\\"><span>\\\\u0440\\\\u0435\\\\u0430\\\\u043b\\\\u0438\\\\u0437\\\\u0430\\\\u0446\\\\u0438\\\\u044e \\\\u0434\\\\u043b\\\\u044f \\\\u0431\\\\u0435\\\\u0437\\\\u0443\\\\u043c\\\\u043d\\\\u044b\\\\u0445 \\\\u0438\\\\u0434\\\\u0435\\\\u0439 \\\\u043d\\\\u0430\\\\u0448\\\\u0438\\\\u0445 \\\\u043f\\\\u0440\\\\u043e\\\\u0434\\\\u0430\\\\u043a\\\\u0442\\\\u043e\\\\u0432;</span></span></span></li><li class=\\\\\"1\\\\\"><span><span style=\\\\\"color:black\\\\\">\\\\u0440\\\\u0430\\\\u0437\\\\u0440\\\\u0430\\\\u0431\\\\u0430\\\\u0442\\\\u044b\\\\u0432\\\\u0430\\\\u0442\\\\u044c \\\\u0441\\\\u0435\\\\u0440\\\\u0432\\\\u0438\\\\u0441\\\\u044b, \\\\u0438\\\\u043d\\\\u0442\\\\u0435\\\\u0433\\\\u0440\\\\u0438\\\\u0440\\\\u043e\\\\u0432\\\\u0430\\\\u0442\\\\u044c\\\\u0441\\\\u044f \\\\u0441 \\\\u043c\\\\u043d\\\\u043e\\\\u0436\\\\u0435\\\\u0441\\\\u0442\\\\u0432\\\\u043e\\\\u043c \\\\u0441\\\\u0438\\\\u0441\\\\u0442\\\\u0435\\\\u043c \\\\u0431\\\\u0430\\\\u043d\\\\u043a\\\\u0430.</span></span></li></ul>\", \"duties\": \"<p class=\\\\\"1\\\\\"><span style=\\\\\"font-size:14px\\\\\"><strong><span style=\\\\\"background:white\\\\\">\\\\u0418\\\\u043d\\\\u0444\\\\u043e\\\\u0440\\\\u043c\\\\u0430\\\\u0446\\\\u0438\\\\u044f </span><span lang=\\\\\"ru\\\\\" style=\\\\\"background:white\\\\\">\\\\u043e \\\\u043f\\\\u0440\\\\u043e\\\\u0435\\\\u043a\\\\u0442\\\\u0435:</span></strong></span></p><p class=\\\\\"1\\\\\"><span><span style=\\\\\"font-size:10.5pt\\\\\"><span style=\\\\\"background:white\\\\\"><span><span style=\\\\\"color:#333333\\\\\">\\\\u041d\\\\u0430\\\\u0448\\\\u0430 \\\\u043a\\\\u043e\\\\u043c\\\\u0430\\\\u043d\\\\u0434\\\\u0430 \\\\u0434\\\\u0435\\\\u043b\\\\u0430\\\\u0435\\\\u0442 \\\\u043d\\\\u043e\\\\u0432\\\\u044b\\\\u0435 \\\\u044d\\\\u043a\\\\u0441\\\\u043f\\\\u0435\\\\u0440\\\\u0438\\\\u043c\\\\u0435\\\\u043d\\\\u0442\\\\u0430\\\\u043b\\\\u044c\\\\u043d\\\\u044b\\\\u0435 \\\\u0444\\\\u0438\\\\u0447\\\\u0438 \\\\u0434\\\\u043b\\\\u044f \\\\u0421\\\\u0411\\\\u041e\\\\u041b\\\\u0430.</span></span></span></span></span></p><p class=\\\\\"1\\\\\"><span><span style=\\\\\"font-size:10.5pt\\\\\"><span style=\\\\\"background:white\\\\\"><span><span style=\\\\\"color:#333333\\\\\">\\\\u0421\\\\u0435\\\\u0439\\\\u0447\\\\u0430\\\\u0441 \\\\u043c\\\\u044b \\\\u0440\\\\u0430\\\\u0437\\\\u0440\\\\u0430\\\\u0431\\\\u0430\\\\u0442\\\\u044b\\\\u0432\\\\u0430\\\\u0435\\\\u043c \\\\u0441\\\\u0438\\\\u0441\\\\u0442\\\\u0435\\\\u043c\\\\u0443, \\\\u0441 \\\\u043f\\\\u043e\\\\u043c\\\\u043e\\\\u0449\\\\u044c\\\\u044e \\\\u043a\\\\u043e\\\\u0442\\\\u043e\\\\u0440\\\\u043e\\\\u0439 \\\\u0440\\\\u0430\\\\u0437\\\\u043d\\\\u044b\\\\u0435 \\\\u043a\\\\u043e\\\\u043c\\\\u0430\\\\u043d\\\\u0434\\\\u044b \\\\u0421\\\\u0431\\\\u0435\\\\u0440\\\\u0430 \\\\u0441\\\\u043c\\\\u043e\\\\u0433\\\\u0443\\\\u0442 \\\\u0441\\\\u043e\\\\u0437\\\\u0434\\\\u0430\\\\u0432\\\\u0430\\\\u0442\\\\u044c \\\\u043a\\\\u0432\\\\u0435\\\\u0441\\\\u0442\\\\u044b \\\\u0434\\\\u043b\\\\u044f \\\\u043c\\\\u043e\\\\u0431\\\\u0438\\\\u043b\\\\u044c\\\\u043d\\\\u043e\\\\u0433\\\\u043e \\\\u043f\\\\u0440\\\\u0438\\\\u043b\\\\u043e\\\\u0436\\\\u0435\\\\u043d\\\\u0438\\\\u044f.</span></span></span></span></span></p><p class=\\\\\"1\\\\\"><span><span style=\\\\\"font-size:10.5pt\\\\\"><span style=\\\\\"background:white\\\\\"><span><span style=\\\\\"color:#333333\\\\\">\\\\u0422\\\\u0430\\\\u043a\\\\u0436\\\\u0435 \\\\u043c\\\\u044b \\\\u0431\\\\u0443\\\\u0434\\\\u0435\\\\u043c \\\\u0440\\\\u0430\\\\u0437\\\\u0440\\\\u0430\\\\u0431\\\\u0430\\\\u0442\\\\u044b\\\\u0432\\\\u0430\\\\u0442\\\\u044c \\\\u0432\\\\u043d\\\\u0443\\\\u0442\\\\u0440\\\\u0435\\\\u043d\\\\u043d\\\\u044e\\\\u044e \\\\u043f\\\\u043b\\\\u0430\\\\u0442\\\\u0444\\\\u043e\\\\u0440\\\\u043c\\\\u0443 \\\\u0434\\\\u043b\\\\u044f \\\\u043f\\\\u0440\\\\u043e\\\\u0434\\\\u0443\\\\u043a\\\\u0442\\\\u043e\\\\u0432\\\\u044b\\\\u0445 \\\\u044d\\\\u043a\\\\u0441\\\\u043f\\\\u0435\\\\u0440\\\\u0438\\\\u043c\\\\u0435\\\\u043d\\\\u0442\\\\u043e\\\\u0432.</span></span></span></span></span></p><p class=\\\\\"1\\\\\">&nbsp;</p><p class=\\\\\"1\\\\\"><span style=\\\\\"font-size:14px\\\\\"><strong><span lang=\\\\\"ru\\\\\"><span style=\\\\\"background:white\\\\\">\\\\u041e\\\\u043f\\\\u0438\\\\u0441\\\\u0430\\\\u043d\\\\u0438\\\\u0435 \\\\u043a\\\\u043e\\\\u043c\\\\u0430\\\\u043d\\\\u0434\\\\u044b:</span></span></strong></span></p><p class=\\\\\"1\\\\\"><span><span style=\\\\\"font-size:10.5pt\\\\\"><span style=\\\\\"background:white\\\\\"><span>2-</span></span></span><span lang=\\\\\"EN-US\\\\\" style=\\\\\"font-size:10.5pt\\\\\"><span style=\\\\\"background:white\\\\\"><span>pizza</span></span></span> <span lang=\\\\\"EN-US\\\\\" style=\\\\\"font-size:10.5pt\\\\\"><span style=\\\\\"background:white\\\\\"><span>team</span></span></span><span style=\\\\\"font-size:10.5pt\\\\\"><span style=\\\\\"background:white\\\\\"><span>: \\\\u0441\\\\u0435\\\\u0439\\\\u0447\\\\u0430\\\\u0441 \\\\u0443 \\\\u043d\\\\u0430\\\\u0441 \\\\u0440\\\\u0430\\\\u0431\\\\u043e\\\\u0442\\\\u0430\\\\u044e\\\\u0442 \\\\u0440\\\\u0430\\\\u0437\\\\u0440\\\\u0430\\\\u0431\\\\u043e\\\\u0442\\\\u0447\\\\u0438\\\\u043a\\\\u0438 </span></span></span><span lang=\\\\\"EN-US\\\\\" style=\\\\\"font-size:10.5pt\\\\\"><span style=\\\\\"background:white\\\\\"><span>iOS</span></span></span> <span style=\\\\\"font-size:10.5pt\\\\\"><span style=\\\\\"background:white\\\\\"><span>\\\\u0438 </span></span></span><span lang=\\\\\"EN-US\\\\\" style=\\\\\"font-size:10.5pt\\\\\"><span style=\\\\\"background:white\\\\\"><span>Android</span></span></span><span style=\\\\\"font-size:10.5pt\\\\\"><span style=\\\\\"background:white\\\\\"><span>, \\\\u043f\\\\u0440\\\\u043e\\\\u0434\\\\u0430\\\\u043a\\\\u0442 \\\\u0438 \\\\u0430\\\\u043d\\\\u0430\\\\u043b\\\\u0438\\\\u0442\\\\u0438\\\\u043a. </span></span></span></span></p><p class=\\\\\"1\\\\\"><span><span style=\\\\\"font-size:10.5pt\\\\\"><span style=\\\\\"background:white\\\\\"><span>\\\\u041a \\\\u043a\\\\u043e\\\\u043c\\\\u0430\\\\u043d\\\\u0434\\\\u0435 \\\\u0432 \\\\u0431\\\\u043b\\\\u0438\\\\u0436\\\\u0430\\\\u0439\\\\u0448\\\\u0435\\\\u0435 \\\\u0432\\\\u0440\\\\u0435\\\\u043c\\\\u044f \\\\u043f\\\\u043e\\\\u0434\\\\u043a\\\\u043b\\\\u044e\\\\u0447\\\\u0438\\\\u0442\\\\u0441\\\\u044f \\\\u0442\\\\u0435\\\\u0441\\\\u0442\\\\u0438\\\\u0440\\\\u043e\\\\u0432\\\\u0449\\\\u0438\\\\u043a \\\\u0438 \\\\u0435\\\\u0449\\\\u0435 \\\\u043e\\\\u0434\\\\u0438\\\\u043d \\\\u0430\\\\u043d\\\\u0430\\\\u043b\\\\u0438\\\\u0442\\\\u0438\\\\u043a.</span></span></span></span></p><p class=\\\\\"1\\\\\">&nbsp;</p><p class=\\\\\"1\\\\\"><span style=\\\\\"font-size:14px\\\\\"><strong><span lang=\\\\\"ru\\\\\"><span style=\\\\\"background:white\\\\\">\\\\u041c\\\\u044b \\\\u043e\\\\u0436\\\\u0438\\\\u0434\\\\u0430\\\\u0435\\\\u043c, \\\\u0447\\\\u0442\\\\u043e \\\\u0412\\\\u044b:</span></span></strong></span></p><ul><li class=\\\\\"1\\\\\"><span><span style=\\\\\"color:black\\\\\">\\\\u0420\\\\u0430\\\\u0431\\\\u043e\\\\u0442\\\\u0430\\\\u043b\\\\u0438 \\\\u0440\\\\u0430\\\\u043d\\\\u043d\\\\u0435\\\\u0435 \\\\u0432 \\\\u043f\\\\u0440\\\\u043e\\\\u0434\\\\u0443\\\\u043a\\\\u0442\\\\u043e\\\\u0432\\\\u043e\\\\u0439 </span><span lang=\\\\\"EN-US\\\\\" style=\\\\\"color:black\\\\\">agile</span><span style=\\\\\"color:black\\\\\">-\\\\u043a\\\\u043e\\\\u043c\\\\u0430\\\\u043d\\\\u0434\\\\u0435;</span></span></li><li class=\\\\\"1\\\\\"><span><span style=\\\\\"color:black\\\\\">\\\\u0418\\\\u043c\\\\u0435\\\\u0435\\\\u0442\\\\u0435 \\\\u043e\\\\u043f\\\\u044b\\\\u0442 \\\\u0440\\\\u0430\\\\u0431\\\\u043e\\\\u0442\\\\u044b \\\\u0431\\\\u043e\\\\u043b\\\\u044c\\\\u0448\\\\u0435 4 \\\\u043b\\\\u0435\\\\u0442 \\\\u0441 </span><span lang=\\\\\"EN-US\\\\\" style=\\\\\"color:black\\\\\">Java</span> <span style=\\\\\"color:black\\\\\">\\\\u0438 \\\\u0435\\\\u0435 \\\\u044d\\\\u043a\\\\u043e\\\\u0441\\\\u0438\\\\u0441\\\\u0442\\\\u0435\\\\u043c\\\\u043e\\\\u0439;</span></span></li><li class=\\\\\"1\\\\\"><span><span style=\\\\\"color:black\\\\\">\\\\u0412\\\\u043b\\\\u0430\\\\u0434\\\\u0435\\\\u0435\\\\u0442\\\\u0435</span><span style=\\\\\"color:black\\\\\"> Spring: Core, MVC, Boot, Cloud;</span></span></li><li class=\\\\\"1\\\\\"><span><span style=\\\\\"color:black\\\\\">\\\\u0420\\\\u0430\\\\u0431\\\\u043e\\\\u0442\\\\u0430\\\\u043b\\\\u0438 \\\\u0441 \\\\u0440\\\\u0435\\\\u043b\\\\u044f\\\\u0446\\\\u0438\\\\u043e\\\\u043d\\\\u043d\\\\u044b\\\\u043c\\\\u0438 \\\\u0411\\\\u0414</span><span lang=\\\\\"EN-US\\\\\" style=\\\\\"font-size:10.5pt\\\\\"><span>;</span></span></span></li><li class=\\\\\"1\\\\\"><span><span style=\\\\\"font-size:10.5pt\\\\\"><span>\\\\u0422\\\\u0440\\\\u0435\\\\u043f\\\\u0435\\\\u0442\\\\u043d\\\\u043e \\\\u043e\\\\u0442\\\\u043d\\\\u043e\\\\u0441\\\\u0438\\\\u0442\\\\u0435\\\\u0441\\\\u044c \\\\u043a \\\\u0442\\\\u0435\\\\u0441\\\\u0442\\\\u043e\\\\u0432\\\\u043e\\\\u043c\\\\u0443 \\\\u043f\\\\u043e\\\\u043a\\\\u0440\\\\u044b\\\\u0442\\\\u0438\\\\u044e;</span></span></span></li><li class=\\\\\"1\\\\\"><span><span style=\\\\\"color:black\\\\\">\\\\u0411\\\\u0443\\\\u0434\\\\u0435\\\\u0442\\\\u0435 \\\\u043e\\\\u0442\\\\u043d\\\\u043e\\\\u0441\\\\u0438\\\\u0442\\\\u044c\\\\u0441\\\\u044f \\\\u0441 \\\\u0437\\\\u0430\\\\u0431\\\\u043e\\\\u0442\\\\u043e\\\\u0439 \\\\u043a \\\\u043d\\\\u0430\\\\u0448\\\\u0438\\\\u043c \\\\u043f\\\\u043e\\\\u043b\\\\u044c\\\\u0437\\\\u043e\\\\u0432\\\\u0430\\\\u0442\\\\u0435\\\\u043b\\\\u044f\\\\u043c, \\\\u043f\\\\u0440\\\\u043e\\\\u0434\\\\u0443\\\\u043a\\\\u0442\\\\u0443 \\\\u0438 \\\\u043a\\\\u043e\\\\u043c\\\\u0430\\\\u043d\\\\u0434\\\\u0435.</span></span></li></ul><p class=\\\\\"1\\\\\">&nbsp;</p><p class=\\\\\"1\\\\\"><span style=\\\\\"font-size:14px\\\\\"><strong><span lang=\\\\\"ru\\\\\"><span style=\\\\\"background:white\\\\\">\\\\u0411\\\\u0443\\\\u0434\\\\u0435\\\\u0442 \\\\u0437\\\\u0434\\\\u043e\\\\u0440\\\\u043e\\\\u0432\\\\u043e, \\\\u0435\\\\u0441\\\\u043b\\\\u0438 \\\\u0432\\\\u044b:</span></span></strong></span></p><ul><li class=\\\\\"1\\\\\"><span><span style=\\\\\"color:black\\\\\">\\\\u0423\\\\u043c\\\\u0435\\\\u0435\\\\u0442\\\\u0435 \\\\u0433\\\\u043e\\\\u0442\\\\u043e\\\\u0432\\\\u0438\\\\u0442\\\\u044c </span><span lang=\\\\\"EN-US\\\\\" style=\\\\\"color:black\\\\\">ansible;</span></span></li><li class=\\\\\"1\\\\\"><span><span style=\\\\\"color:black\\\\\">\\\\u0420\\\\u0430\\\\u0431\\\\u043e\\\\u0442\\\\u0430\\\\u043b\\\\u0438 \\\\u0441 </span><span lang=\\\\\"EN-US\\\\\" style=\\\\\"color:black\\\\\">k8s;</span></span></li><li class=\\\\\"1\\\\\"><span><span style=\\\\\"color:black\\\\\">\\\\u0418\\\\u0441\\\\u043f\\\\u043e\\\\u043b\\\\u044c\\\\u0437\\\\u043e\\\\u0432\\\\u0430\\\\u043b\\\\u0438 </span><span lang=\\\\\"EN-US\\\\\" style=\\\\\"color:black\\\\\">kafka;</span></span></li><li class=\\\\\"1\\\\\"><span><span style=\\\\\"color:black\\\\\">\\\\u0423\\\\u043c\\\\u0435\\\\u0435\\\\u0442\\\\u0435 \\\\u043e\\\\u043f\\\\u0442\\\\u0438\\\\u043c\\\\u0438\\\\u0437\\\\u0438\\\\u0440\\\\u043e\\\\u0432\\\\u0430\\\\u0442\\\\u044c </span><span lang=\\\\\"EN-US\\\\\" style=\\\\\"color:black\\\\\">SQL</span><span style=\\\\\"color:black\\\\\">-\\\\u0437\\\\u0430\\\\u043f\\\\u0440\\\\u043e\\\\u0441\\\\u044b.</span></span></li></ul><p class=\\\\\"1\\\\\">&nbsp;</p><p class=\\\\\"1\\\\\"><span style=\\\\\"font-size:14px\\\\\"><strong><span lang=\\\\\"ru\\\\\"><span style=\\\\\"background:white\\\\\">\\\\u0412\\\\u0430\\\\u043c \\\\u043f\\\\u0440\\\\u0435\\\\u0434\\\\u0441\\\\u0442\\\\u043e\\\\u0438\\\\u0442:</span></span></strong></span></p><ul><li class=\\\\\"1\\\\\"><span><span style=\\\\\"color:black\\\\\">\\\\u043e\\\\u0442\\\\u0432\\\\u0435\\\\u0447\\\\u0430\\\\u0442\\\\u044c \\\\u0437\\\\u0430 \\\\u043a\\\\u0430\\\\u0447\\\\u0435\\\\u0441\\\\u0442\\\\u0432\\\\u043e \\\\u0442\\\\u0435\\\\u0445\\\\u043d\\\\u0438\\\\u0447\\\\u0435\\\\u0441\\\\u043a\\\\u0438\\\\u0445 \\\\u0440\\\\u0435\\\\u0448\\\\u0435\\\\u043d\\\\u0438\\\\u0439;</span></span></li><li class=\\\\\"1\\\\\"><span><span style=\\\\\"color:black\\\\\">\\\\u043f\\\\u0440\\\\u0438\\\\u0434\\\\u0443\\\\u043c\\\\u044b\\\\u0432\\\\u0430\\\\u0442\\\\u044c </span><span style=\\\\\"font-size:10.5pt\\\\\"><span>\\\\u0440\\\\u0435\\\\u0430\\\\u043b\\\\u0438\\\\u0437\\\\u0430\\\\u0446\\\\u0438\\\\u044e \\\\u0434\\\\u043b\\\\u044f \\\\u0431\\\\u0435\\\\u0437\\\\u0443\\\\u043c\\\\u043d\\\\u044b\\\\u0445 \\\\u0438\\\\u0434\\\\u0435\\\\u0439 \\\\u043d\\\\u0430\\\\u0448\\\\u0438\\\\u0445 \\\\u043f\\\\u0440\\\\u043e\\\\u0434\\\\u0430\\\\u043a\\\\u0442\\\\u043e\\\\u0432;</span></span></span></li><li class=\\\\\"1\\\\\"><span><span style=\\\\\"color:black\\\\\">\\\\u0440\\\\u0430\\\\u0437\\\\u0440\\\\u0430\\\\u0431\\\\u0430\\\\u0442\\\\u044b\\\\u0432\\\\u0430\\\\u0442\\\\u044c \\\\u0441\\\\u0435\\\\u0440\\\\u0432\\\\u0438\\\\u0441\\\\u044b, \\\\u0438\\\\u043d\\\\u0442\\\\u0435\\\\u0433\\\\u0440\\\\u0438\\\\u0440\\\\u043e\\\\u0432\\\\u0430\\\\u0442\\\\u044c\\\\u0441\\\\u044f \\\\u0441 \\\\u043c\\\\u043d\\\\u043e\\\\u0436\\\\u0435\\\\u0441\\\\u0442\\\\u0432\\\\u043e\\\\u043c \\\\u0441\\\\u0438\\\\u0441\\\\u0442\\\\u0435\\\\u043c \\\\u0431\\\\u0430\\\\u043d\\\\u043a\\\\u0430.</span></span></li></ul>\", \"conditions\": \"<p class=\\\\\"1\\\\\">&nbsp;</p><p class=\\\\\"1\\\\\"><strong><span style=\\\\\"font-size:14px\\\\\"><span lang=\\\\\"ru\\\\\"><span style=\\\\\"background:white\\\\\">\\\\u0420\\\\u0430\\\\u0431\\\\u043e\\\\u0442\\\\u0430 \\\\u0443 \\\\u043d\\\\u0430\\\\u0441 &mdash; \\\\u044d\\\\u0442\\\\u043e:</span></span></span></strong></p><ul><li class=\\\\\"1\\\\\"><span lang=\\\\\"ru\\\\\" style=\\\\\"font-size:10.5pt\\\\\"><span style=\\\\\"background:white\\\\\">\\\\u043a\\\\u043e\\\\u043c\\\\u0430\\\\u043d\\\\u0434\\\\u0430 \\\\u043f\\\\u0440\\\\u043e\\\\u0444\\\\u0435\\\\u0441\\\\u0441\\\\u0438\\\\u043e\\\\u043d\\\\u0430\\\\u043b\\\\u043e\\\\u0432, \\\\u0433\\\\u043e\\\\u0442\\\\u043e\\\\u0432\\\\u044b\\\\u0445 \\\\u043f\\\\u043e\\\\u0434\\\\u0434\\\\u0435\\\\u0440\\\\u0436\\\\u0430\\\\u0442\\\\u044c \\\\u0432\\\\u0430\\\\u0448\\\\u0438 \\\\u0438\\\\u043d\\\\u0438\\\\u0446\\\\u0438\\\\u0430\\\\u0442\\\\u0438\\\\u0432\\\\u044b;</span></span></li><li class=\\\\\"1\\\\\"><span lang=\\\\\"ru\\\\\" style=\\\\\"font-size:10.5pt\\\\\"><span style=\\\\\"background:white\\\\\">\\\\u043c\\\\u043e\\\\u0449\\\\u043d\\\\u043e\\\\u0435 \\\\u0436\\\\u0435\\\\u043b\\\\u0435\\\\u0437\\\\u043e, \\\\u0434\\\\u043e\\\\u043f\\\\u043e\\\\u043b\\\\u043d\\\\u0438\\\\u0442\\\\u0435\\\\u043b\\\\u044c\\\\u043d\\\\u044b\\\\u0435 \\\\u043c\\\\u043e\\\\u043d\\\\u0438\\\\u0442\\\\u043e\\\\u0440\\\\u044b \\\\u0438 \\\\u0432\\\\u0441\\\\u0451, \\\\u0447\\\\u0442\\\\u043e \\\\u043d\\\\u0443\\\\u0436\\\\u043d\\\\u043e \\\\u0434\\\\u043b\\\\u044f \\\\u043f\\\\u0440\\\\u043e\\\\u0434\\\\u0443\\\\u043a\\\\u0442\\\\u0438\\\\u0432\\\\u043d\\\\u043e\\\\u0439 \\\\u0440\\\\u0430\\\\u0431\\\\u043e\\\\u0442\\\\u044b;</span></span></li><li class=\\\\\"1\\\\\"><span lang=\\\\\"ru\\\\\" style=\\\\\"font-size:10.5pt\\\\\"><span style=\\\\\"background:white\\\\\">\\\\u043e\\\\u0431\\\\u0443\\\\u0447\\\\u0435\\\\u043d\\\\u0438\\\\u0435 \\\\u0437\\\\u0430 \\\\u0441\\\\u0447\\\\u0451\\\\u0442 \\\\u043a\\\\u043e\\\\u043c\\\\u043f\\\\u0430\\\\u043d\\\\u0438\\\\u0438;</span></span></li><li class=\\\\\"1\\\\\"><span lang=\\\\\"ru\\\\\" style=\\\\\"font-size:10.5pt\\\\\"><span style=\\\\\"background:white\\\\\">\\\\u0433\\\\u0438\\\\u0431\\\\u043a\\\\u0438\\\\u0439 \\\\u0433\\\\u0440\\\\u0430\\\\u0444\\\\u0438\\\\u043a</span></span></li><li class=\\\\\"1\\\\\"><span lang=\\\\\"ru\\\\\" style=\\\\\"font-size:10.5pt\\\\\"><span style=\\\\\"background:white\\\\\">\\\\u043a\\\\u0440\\\\u0430\\\\u0441\\\\u0438\\\\u0432\\\\u044b\\\\u0439 \\\\u0438 \\\\u043a\\\\u043e\\\\u043c\\\\u0444\\\\u043e\\\\u0440\\\\u0442\\\\u043d\\\\u044b\\\\u0439 \\\\u043e\\\\u0444\\\\u0438\\\\u0441&nbsp;&nbsp;</span></span><span style=\\\\\"font-size:10.5pt\\\\\">\\\\u0433. \\\\u0421\\\\u0430\\\\u043d\\\\u043a\\\\u0442-\\\\u041f\\\\u0435\\\\u0442\\\\u0435\\\\u0440\\\\u0431\\\\u0443\\\\u0440\\\\u0433, </span><span lang=\\\\\"ru\\\\\" style=\\\\\"font-size:10.5pt\\\\\"><span style=\\\\\"background:white\\\\\">\\\\u043c. \\\\u041b\\\\u0430\\\\u0434\\\\u043e\\\\u0436\\\\u0441\\\\u043a\\\\u0430\\\\u044f&nbsp;&nbsp;</span></span><span style=\\\\\"font-size:10.5pt\\\\\">\\\\u043f\\\\u043b. \\\\u041a\\\\u0430\\\\u0440\\\\u043b\\\\u0430 \\\\u0424\\\\u0430\\\\u0431\\\\u0435\\\\u0440\\\\u0436\\\\u0435 8 \\\\u0412</span></li><li class=\\\\\"1\\\\\"><span lang=\\\\\"ru\\\\\" style=\\\\\"font-size:10.5pt\\\\\"><span style=\\\\\"background:white\\\\\">\\\\u0414\\\\u041c\\\\u0421;</span></span></li><li class=\\\\\"1\\\\\"><span lang=\\\\\"ru\\\\\" style=\\\\\"font-size:10.5pt\\\\\"><span style=\\\\\"background:white\\\\\">\\\\u043f\\\\u0440\\\\u043e\\\\u0437\\\\u0440\\\\u0430\\\\u0447\\\\u043d\\\\u0430\\\\u044f \\\\u0441\\\\u0438\\\\u0441\\\\u0442\\\\u0435\\\\u043c\\\\u0430 \\\\u0431\\\\u043e\\\\u043d\\\\u0443\\\\u0441\\\\u043e\\\\u0432 \\\\u0438 \\\\u043f\\\\u0440\\\\u0435\\\\u043c\\\\u0438\\\\u0439, \\\\u0434\\\\u043e\\\\u0441\\\\u0442\\\\u043e\\\\u0439\\\\u043d\\\\u0430\\\\u044f \\\\u0437\\\\u0430\\\\u0440\\\\u043f\\\\u043b\\\\u0430\\\\u0442\\\\u0430 &mdash; \\\\u0440\\\\u0430\\\\u0437\\\\u043c\\\\u0435\\\\u0440 \\\\u043e\\\\u0431\\\\u0441\\\\u0443\\\\u0434\\\\u0438\\\\u043c \\\\u043d\\\\u0430 \\\\u0441\\\\u043e\\\\u0431\\\\u0435\\\\u0441\\\\u0435\\\\u0434\\\\u043e\\\\u0432\\\\u0430\\\\u043d\\\\u0438\\\\u0438.</span></span></li></ul>\"}')])"
      ]
     },
     "execution_count": 121,
     "metadata": {},
     "output_type": "execute_result"
    }
   ],
   "source": [
    "vacs[0]"
   ]
  },
  {
   "cell_type": "code",
   "execution_count": null,
   "metadata": {
    "collapsed": true
   },
   "outputs": [],
   "source": []
  },
  {
   "cell_type": "code",
   "execution_count": null,
   "metadata": {
    "collapsed": true
   },
   "outputs": [],
   "source": []
  }
 ],
 "metadata": {
  "kernelspec": {
   "display_name": "Python 3",
   "language": "python",
   "name": "python3"
  },
  "language_info": {
   "codemirror_mode": {
    "name": "ipython",
    "version": 3
   },
   "file_extension": ".py",
   "mimetype": "text/x-python",
   "name": "python",
   "nbconvert_exporter": "python",
   "pygments_lexer": "ipython3",
   "version": "3.6.1"
  }
 },
 "nbformat": 4,
 "nbformat_minor": 4
}
